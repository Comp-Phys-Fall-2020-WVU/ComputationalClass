{
 "cells": [
  {
   "cell_type": "markdown",
   "metadata": {},
   "source": [
    "# PDE  Week 13\n",
    "\n",
    "Intro to PDE\n",
    "\n",
    "Scipy with PDE"
   ]
  },
  {
   "cell_type": "markdown",
   "metadata": {},
   "source": [
    "When there is spatial and temporal dependence, the transient model is often a partial differential equation (PDE). Here we will give a glimse on how to proceed, if you have to solve PDE in your future.\n",
    "\n",
    "We want to solve equations of the form\n",
    "\n",
    "$$\n",
    "\\frac{\\partial \\Psi}{\\partial t} = - C \\nabla^2 \\Psi + V(x,t) \n",
    "$$\n",
    "\n",
    "As this is very complicated and we just want to go over with a simple introduction, let us consider (i) a 1D case (ii) $V(x,t)=g$. \n",
    "\n",
    "Therefore our equations looks like (in a very simplied version)\n",
    "\n",
    "$$\n",
    "\\frac{\\partial \\Psi}{\\partial t} = \\alpha \\frac{d^2}{dx^2} \\Psi + g\n",
    "$$\n",
    "\n",
    "This is the so called Diffusion Equation, where $\\Psi(x,t)$ can be the particle concentration in a liquid or other diffusion process. One very popular application of the diffusion equation is for heat transport in solid bodies. Here, $\\Psi$ will correspond to the temperature, and the equation predicts how the temperature evolves in space and time within the solid body. We remark that the temperature in a fluid is influenced not only by diffusion, but also by the flow of the liquid. If present, the latter effect requires an extra term in the equation (known as an advection or convection term). The term g is known as the source term and represents generation, or loss, of heat (by some mechanism) within the body. For diffusive transport, g models injection or extraction of the substance.\n",
    "\n"
   ]
  },
  {
   "cell_type": "markdown",
   "metadata": {},
   "source": [
    "## Initial Conditions and Boundary Conditions"
   ]
  },
  {
   "cell_type": "markdown",
   "metadata": {},
   "source": [
    "The first thing, we need to worry is that the PDE needs to be solved in some given domain (in space and time). Therefore, we need to know the initial conditions and the boundary conditions (the solution is not unique unless we define both). For example for the diffusion equation we need to know the initial condition for the concentration $\\Psi(x,0)$, stating what $\\Psi$ is when the process starts. In addition, the diffusion equation needs one boundary condition at each point of the boundary within the predefined domain. This condition can either be that $\\Psi$ is known or that we know the normal derivative, $\\nabla \\Psi \\cdot \\hat{n} = \\partial \\Psi/\\partial \\hat{n}$, where $\\hat{n}$ denotes an outward unit normal the boundary of the domain.\n",
    "\n",
    "Let us look at a specific application and how the diffusion equation with initial and boundary conditions then appears. We consider the evolution of temperature in a one-dimensional medium, more precisely a long rod, where the surface of the rod is covered by an insulating material. The heat can then not escape from the surface, which means that the temperature distribution will only depend on a coordinate along the rod, x, and time t. At one end of the rod, x=L, we also assume that the surface is insulated, but at the other end, x=0, we assume that we have some device for controlling the temperature of the medium. Here, a function s(t) tells what the temperature is in time. We therefore have a boundary condition u(0,t)=s(t). At the other insulated end, x=L, heat cannot escape, which is expressed by the boundary condition ∂u(L,t)/∂x=0. The surface along the rod is also insulated and hence subject to the same boundary condition (here generalized to ∂u/∂n=0 at the curved surface). However, since we have reduced the problem to one dimension, we do not need this physical boundary condition in our mathematical model. In one dimension, we can set Ω=[0,L]."
   ]
  },
  {
   "cell_type": "code",
   "execution_count": null,
   "metadata": {},
   "outputs": [],
   "source": []
  }
 ],
 "metadata": {
  "kernelspec": {
   "display_name": "Python 3",
   "language": "python",
   "name": "python3"
  },
  "language_info": {
   "codemirror_mode": {
    "name": "ipython",
    "version": 3
   },
   "file_extension": ".py",
   "mimetype": "text/x-python",
   "name": "python",
   "nbconvert_exporter": "python",
   "pygments_lexer": "ipython3",
   "version": "3.7.7"
  }
 },
 "nbformat": 4,
 "nbformat_minor": 4
}
