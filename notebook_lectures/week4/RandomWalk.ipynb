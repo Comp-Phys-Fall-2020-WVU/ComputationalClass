{
 "cells": [
  {
   "cell_type": "markdown",
   "metadata": {},
   "source": [
    "This is an interactive demo, not intended for proper viewing on a static page.\n",
    "\n",
    "Here we discussed one of the most fundamental problems in statistical mechanics, the random walk. Just think that after a WVU football game and a huge amount of alcohol, you decide to go back to your home. The question if you start from the bus stop, how far can you go?... in a more physical example, this is the main concept in diffusion. \n",
    "\n",
    "If you want to read more take a look to [Einstein](https://physicsworld.com/a/einsteins-random-walk/)"
   ]
  },
  {
   "cell_type": "code",
   "execution_count": 1,
   "metadata": {},
   "outputs": [],
   "source": [
    "import random"
   ]
  },
  {
   "cell_type": "code",
   "execution_count": 2,
   "metadata": {},
   "outputs": [],
   "source": [
    "random.seed(None)"
   ]
  },
  {
   "cell_type": "markdown",
   "metadata": {},
   "source": [
    "VPython example (does not run in notebook):\n",
    "\n",
    "```python\n",
    "import vpython as vp\n",
    "jmax = 100\n",
    "x = 0.0\n",
    "y = 0.0\n",
    "pts = vp.gcurve()\n",
    "pts.plot(pos=(x,y))\n",
    "         \n",
    "for i in range(0, jmax+1):\n",
    "    x += (random.random() - 0.5)*2\n",
    "    y += (random.random() - 0.5)*2\n",
    "    pts.plot(pos=(x,y))\n",
    "    vp.rate(5)\n",
    "```"
   ]
  },
  {
   "cell_type": "code",
   "execution_count": 3,
   "metadata": {},
   "outputs": [],
   "source": [
    "# Uncomment if in widget mode available\n",
    "%matplotlib widget"
   ]
  },
  {
   "cell_type": "code",
   "execution_count": 4,
   "metadata": {},
   "outputs": [],
   "source": [
    "import matplotlib.pyplot as plt\n",
    "import time\n",
    "import numpy as np"
   ]
  },
  {
   "cell_type": "code",
   "execution_count": 5,
   "metadata": {},
   "outputs": [
    {
     "data": {
      "application/vnd.jupyter.widget-view+json": {
       "model_id": "",
       "version_major": 2,
       "version_minor": 0
      },
      "text/plain": [
       "Canvas(toolbar=Toolbar(toolitems=[('Home', 'Reset original view', 'home', 'home'), ('Back', 'Back to previous …"
      ]
     },
     "metadata": {},
     "output_type": "display_data"
    }
   ],
   "source": [
    "fig, ax = plt.subplots()\n",
    "line, = plt.plot([0], [0], '.-')\n",
    "ax.set_xlim(-5,5)\n",
    "ax.set_ylim(-5,5)\n",
    "plt.show()"
   ]
  },
  {
   "cell_type": "code",
   "execution_count": 6,
   "metadata": {},
   "outputs": [
    {
     "name": "stdout",
     "output_type": "stream",
     "text": [
      "0 1 2 3 4 5 6 7 8 9 10 11 12 13 14 15 16 17 18 19 20 21 22 23 24 25 26 27 28 29 30 31 32 33 34 35 36 37 38 39 40 41 42 43 44 45 46 47 48 49 50 51 52 53 54 55 56 57 58 59 60 61 62 63 64 65 66 67 68 69 70 71 72 73 74 75 76 77 78 79 80 81 82 83 84 85 86 87 88 89 90 91 92 93 94 95 96 97 98 99 100 "
     ]
    }
   ],
   "source": [
    "jmax = 100\n",
    "x = 0.0\n",
    "y = 0.0\n",
    "plt.ion()\n",
    "\n",
    "for i in range(0, jmax+1):\n",
    "    #  uniform distributed random numbers between (-1, 1)\n",
    "    # creating points in 2D such if a particle is in (x0,y0) it will got to (x0+x,y0+y)  (x,y) are (-1,1)\n",
    "    x += (random.random() - 0.5)*2\n",
    "    y += (random.random() - 0.5)*2\n",
    "    xs, ys = line.get_data()\n",
    "    xs = np.append(xs, [x])\n",
    "    ys = np.append(ys, [y])\n",
    "    line.set_data(xs, ys)\n",
    "    time.sleep(.2)\n",
    "    print(i, end=\" \")"
   ]
  },
  {
   "cell_type": "code",
   "execution_count": 7,
   "metadata": {},
   "outputs": [],
   "source": [
    "%matplotlib inline"
   ]
  },
  {
   "cell_type": "code",
   "execution_count": 10,
   "metadata": {},
   "outputs": [
    {
     "data": {
      "image/png": "[encoded data removed]",
      "text/plain": [
       "<Figure size 432x288 with 1 Axes>"
      ]
     },
     "metadata": {
      "needs_background": "light"
     },
     "output_type": "display_data"
    }
   ],
   "source": [
    "#using Matplotlib\n",
    "  \n",
    "# defining the number of steps \n",
    "n = 100000\n",
    "  \n",
    "#creating two array for containing x and y coordinate \n",
    "#of size equals to the number of size and filled up with 0's \n",
    "x = np.zeros(n) \n",
    "y = np.zeros(n) \n",
    "  \n",
    "# filling the coordinates with random variables \n",
    "for i in range(1, n): \n",
    "    val = random.randint(1, 4) \n",
    "    if val == 1: \n",
    "        x[i] = x[i - 1] + 1\n",
    "        y[i] = y[i - 1] \n",
    "    elif val == 2: \n",
    "        x[i] = x[i - 1] - 1\n",
    "        y[i] = y[i - 1] \n",
    "    elif val == 3: \n",
    "        x[i] = x[i - 1] \n",
    "        y[i] = y[i - 1] + 1\n",
    "    else: \n",
    "        x[i] = x[i - 1] \n",
    "        y[i] = y[i - 1] - 1\n",
    "      \n",
    "  \n",
    "# plotting stuff: \n",
    "plt.title(\"Random Walk ($n = \" + str(n) + \"$ steps)\") \n",
    "plt.plot(x, y) \n",
    "#plt.savefig(\"rand_walk\"+str(n)+\".png\",bbox_inches=\"tight\",dpi=600) \n",
    "plt.show() \n"
   ]
  },
  {
   "cell_type": "code",
   "execution_count": null,
   "metadata": {},
   "outputs": [],
   "source": []
  }
 ],
 "metadata": {
  "kernelspec": {
   "display_name": "Python 3",
   "language": "python",
   "name": "python3"
  },
  "language_info": {
   "codemirror_mode": {
    "name": "ipython",
    "version": 3
   },
   "file_extension": ".py",
   "mimetype": "text/x-python",
   "name": "python",
   "nbconvert_exporter": "python",
   "pygments_lexer": "ipython3",
   "version": "3.7.7"
  }
 },
 "nbformat": 4,
 "nbformat_minor": 4
}
