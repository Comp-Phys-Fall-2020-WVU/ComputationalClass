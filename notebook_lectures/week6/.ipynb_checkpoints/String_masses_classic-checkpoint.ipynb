{
 "cells": [
  {
   "cell_type": "code",
   "execution_count": 1,
   "metadata": {},
   "outputs": [
    {
     "data": {
      "text/html": [
       "<div id=\"glowscript\" class=\"glowscript\"></div>"
      ],
      "text/plain": [
       "<IPython.core.display.HTML object>"
      ]
     },
     "metadata": {},
     "output_type": "display_data"
    },
    {
     "data": {
      "application/javascript": [
       "if (typeof Jupyter !== \"undefined\") { window.__context = { glowscript_container: $(\"#glowscript\").removeAttr(\"id\")};}else{ element.textContent = ' ';}"
      ],
      "text/plain": [
       "<IPython.core.display.Javascript object>"
      ]
     },
     "metadata": {},
     "output_type": "display_data"
    },
    {
     "data": {
      "text/html": [
       "<div id=\"glowscript\" class=\"glowscript\"></div>"
      ],
      "text/plain": [
       "<IPython.core.display.HTML object>"
      ]
     },
     "metadata": {},
     "output_type": "display_data"
    },
    {
     "data": {
      "application/javascript": [
       "if (typeof Jupyter !== \"undefined\") { window.__context = { glowscript_container: $(\"#glowscript\").removeAttr(\"id\")};}else{ element.textContent = ' ';}"
      ],
      "text/plain": [
       "<IPython.core.display.Javascript object>"
      ]
     },
     "metadata": {},
     "output_type": "display_data"
    }
   ],
   "source": [
    "\"\"\" From \"COMPUTATIONAL PHYSICS\" & \"COMPUTER PROBLEMS in PHYSICS\"\n",
    "    by RH Landau, MJ Paez, and CC Bordeianu (deceased)\n",
    "    Copyright R Landau, Oregon State Unv, MJ Paez, Univ Antioquia, \n",
    "    C Bordeianu, Univ Bucharest, 2017. \n",
    "    Please respect copyright & acknowledge our work.\"\"\"\n",
    "\n",
    "# NewtonNDanimate.py:              MultiDimension Newton Search\n",
    "\n",
    "# here we discusse section 6.1 of our book\n",
    "# There are two weights and they are hang from three pieces of strings with lengths \n",
    "# (L1, L2, L3) = (3,4,4)\n",
    "# A horizontal bar of length L= 8\n",
    "# Problem: find the angles assumed by the strings and the tensions exerted by the strings\n",
    "\n",
    "# here we will use the Newton's method to find the solution to this problem\n",
    "\n",
    "# This only works in the classic notebook, not lab or nbconvert\n",
    "\n",
    "# if we do not have access to vpython, we will mock its existence by using\n",
    "# unittest.mock is a library for testing in Python. It allows you to replace parts of your system \n",
    "# under test with mock objects and make assertions about how they have been used.\n",
    "from vpython import *\n",
    "try:\n",
    "    from vpython import *\n",
    "except ImportError:\n",
    "    print(\"No VPython available\")\n",
    "\n",
    "    from unittest.mock import Mock, MagicMock\n",
    "\n",
    "    canvas = MagicMock()\n",
    "    sphere = Mock()\n",
    "    curve = Mock()\n",
    "    vector = Mock()\n",
    "    rate = Mock()\n",
    "    color = Mock()\n",
    "\n",
    "import numpy as np\n",
    "\n",
    "scene = canvas(\n",
    "    x=0,\n",
    "    y=0,\n",
    "    width=800,\n",
    "    height=400,\n",
    "    title=\"String and masses configuration\",\n",
    "    background=vector(1, 1, 1),\n",
    ")"
   ]
  },
  {
   "cell_type": "markdown",
   "metadata": {},
   "source": [
    "Basic statics (known fro Kindergarden)\n",
    "\n",
    "a) Geometry constraints\n",
    "$$\n",
    "L_1 \\cos \\theta_1 + L_2 \\cos \\theta_2 + L_3 \\cos \\theta_3 = L\\\\\n",
    "L_1 \\sin \\theta_1 + L_2 \\sin \\theta_2 - L_3 \\sin \\theta_3 = 0 \\\\\n",
    "\\sin^2 \\theta_1 + \\cos^2 \\theta_1 =1 \\\\\n",
    "\\sin^2 \\theta_2 + \\cos^2 \\theta_2 =1 \\\\\n",
    "\\sin^2 \\theta_3 + \\cos^2 \\theta_3 =1\n",
    "$$\n",
    "\n",
    "b) Static equations\n",
    "$$\n",
    "T_1 \\sin \\theta_1 - T_2 \\sin \\theta_2 - W_1 = 0 \\\\\n",
    "T_1 \\cos \\theta_1 - T_2 \\cos \\theta_2  = 0 \\\\\n",
    "T_2 \\sin \\theta_2 + T_3 \\sin \\theta_3 - W_2 = 0 \\\\\n",
    "T_2 \\cos \\theta_2 - T_3 \\cos \\theta_3  = 0 \\\\\n",
    "$$\n",
    "\n",
    "Trial and error is hard.. therefore we will use a search technique that we will use later but hope, the basics will be clear here.\n",
    "\n",
    "Let me start by defining $y=(\\sin \\theta_1, \\sin \\theta_2, \\sin \\theta_3, \\cos \\theta_1, \\cos \\theta_2, \\cos \\theta_3, T_1, T_2, T_3) = (x_1,x_2,x_3,\\cdots,x_9)$. Therefore, we can write the previous equations as $\\vec{f}(y)=0$\n",
    "\n",
    "The basic idea is the following. Here, we have a set of non linear equations... we will linearize them, guess a solution and improve over iterations. How?\n",
    "\n",
    "$$\n",
    "\\vec{f}(x_1+\\Delta x_1, x_2+\\Delta x_2, \\cdots, x_9+\\Delta x_9) = \\vec{f}(x_1, x_2, \\cdots, x_9+)+\\sum_{j=1}^9 \\frac{\\partial f_i}{\\partial x_j} \\Delta x_j =0\n",
    "$$\n",
    "which now becomes a matrix equation as:\n",
    "$$\n",
    "\\vec{f} + \n",
    "\\begin{pmatrix}\n",
    "\\frac{\\partial f_1}{\\partial x_1} & \\frac{\\partial f_1}{\\partial x_2}&\\cdots& \\frac{\\partial f_1}{\\partial x_19}\\\\\n",
    "\\frac{\\partial f_2}{\\partial x_1} & \\frac{\\partial f_2}{\\partial x_2}&\\cdots& \\frac{\\partial f_2}{\\partial x_19}\\\\\n",
    "\\vdots  & \\vdots  & \\ddots & \\vdots \\\\\n",
    "\\frac{\\partial f_9}{\\partial x_1} & \\frac{\\partial f_9}{\\partial x_2}&\\cdots& \\frac{\\partial f_9}{\\partial x_19}\\\\\n",
    "\\end{pmatrix} \n",
    "\\begin{pmatrix}\n",
    "\\Delta x_1\\\\\n",
    "\\Delta x_2\\\\\n",
    "\\vdots\n",
    "\\Delta x_9\\\\\n",
    "\\end{pmatrix}\n",
    "=0\n",
    "$$\n",
    "Derivatives are evaluated at $(x_1,x_2,x_3,\\cdots,x_9)$. THerefore, we just need to find $(\\Delta x_1,\\Delta x_2,\\Delta x_3,\\cdots,\\Delta x_9)$, which is $\\vec{Delta x} = - F^{-1} \\vec{f}$. We can evaluate the matrix analitically or numerically (remember derivatives)."
   ]
  },
  {
   "cell_type": "code",
   "execution_count": 3,
   "metadata": {},
   "outputs": [],
   "source": [
    "def plotconfig():\n",
    "    for obj in scene.objects:\n",
    "        obj.visible = 0  # Erase previous configuration\n",
    "    L1 = 3.0\n",
    "    L2 = 4.0\n",
    "    L3 = 4.0\n",
    "    xa = L1 * x[3]  # L1*cos(th1)\n",
    "    ya = L1 * x[0]  # L1 sin(th1)\n",
    "    xb = xa + L2 * x[4]  # L1*cos(th1)+L2*cos(th2)\n",
    "    yb = ya + L2 * x[1]  # L1*sin(th1)+L2*sen(th2)\n",
    "    xc = xb + L3 * x[5]  # L1*cos(th1)+L2*cos(th2)+L3*cos(th3)\n",
    "    yc = yb - L3 * x[2]  # L1*sin(th1)+L2*sen(th2)-L3*sin(th3)\n",
    "    mx = 100.0  # for linear coordinate transformation\n",
    "    bx = -500.0  # from 0=< x =<10\n",
    "    my = -100.0  # to    -500 =<x_window=>500\n",
    "    by = 400.0  # same transformation for y\n",
    "    xap = mx * xa + bx  # to keep aspect ratio\n",
    "    yap = my * ya + by\n",
    "    ball1 = sphere(pos=vector(xap, yap, 0), color=color.cyan, radius=15)\n",
    "    xbp = mx * xb + bx\n",
    "    ybp = my * yb + by\n",
    "    ball2 = sphere(pos=vector(xbp, ybp, 0), color=color.cyan, radius=25)\n",
    "    xcp = mx * xc + bx\n",
    "    ycp = my * yc + by\n",
    "    x0 = mx * 0 + bx\n",
    "    y0 = my * 0 + by\n",
    "\n",
    "    line1 = curve(pos=[(x0, y0, 0), (xap, yap, 0)], color=color.yellow, radius=4)\n",
    "    line2 = curve(pos=[(xap, yap, 0), (xbp, ybp, 0)], color=color.yellow, radius=4)\n",
    "    line3 = curve(pos=[(xbp, ybp, 0), (xcp, ycp, 0)], color=color.yellow, radius=4)\n",
    "    topline = curve(pos=[(x0, y0, 0), (xcp, ycp, 0)], color=color.red, radius=4)"
   ]
  },
  {
   "cell_type": "code",
   "execution_count": 4,
   "metadata": {},
   "outputs": [],
   "source": [
    "def F(x, f):\n",
    "    f[0] = 3 * x[3] + 4 * x[4] + 4 * x[5] - 8.0\n",
    "    f[1] = 3 * x[0] + 4 * x[1] - 4 * x[2]\n",
    "    f[2] = x[6] * x[0] - x[7] * x[1] - 10.0\n",
    "    f[3] = x[6] * x[3] - x[7] * x[4]\n",
    "    f[4] = x[7] * x[1] + x[8] * x[2] - 20.0\n",
    "    f[5] = x[7] * x[4] - x[8] * x[5]\n",
    "    f[6] = pow(x[0], 2) + pow(x[3], 2) - 1.0\n",
    "    f[7] = pow(x[1], 2) + pow(x[4], 2) - 1.0\n",
    "    f[8] = pow(x[2], 2) + pow(x[5], 2) - 1.0"
   ]
  },
  {
   "cell_type": "code",
   "execution_count": 5,
   "metadata": {},
   "outputs": [],
   "source": [
    "def dFi_dXj(x, deriv, n):\n",
    "    h = 1e-4\n",
    "    for j in range(0, n):\n",
    "        temp = x[j]\n",
    "        x[j] = x[j] + h / 2.0\n",
    "        F(x, f)\n",
    "        for i in range(0, n):\n",
    "            deriv[i, j] = f[i]\n",
    "        x[j] = temp\n",
    "    for j in range(0, n):\n",
    "        temp = x[j]\n",
    "        x[j] = x[j] - h / 2.0\n",
    "        F(x, f)\n",
    "        for i in range(0, n):\n",
    "            deriv[i, j] = (deriv[i, j] - f[i]) / h\n",
    "        x[j] = temp"
   ]
  },
  {
   "cell_type": "code",
   "execution_count": 7,
   "metadata": {},
   "outputs": [],
   "source": [
    "n = 9\n",
    "eps = 1e-3\n",
    "deriv = np.zeros((n, n), float)\n",
    "f = np.zeros((n), float)\n",
    "x = np.array([0.5, 0.5, 0.5, 0.5, 0.5, 0.5, 0.5, 1.0, 1.0, 1.0])"
   ]
  },
  {
   "cell_type": "code",
   "execution_count": 8,
   "metadata": {},
   "outputs": [
    {
     "data": {
      "application/javascript": [
       "if (typeof Jupyter !== \"undefined\") {require.undef(\"nbextensions/vpython_libraries/glow.min\");}else{element.textContent = ' ';}"
      ],
      "text/plain": [
       "<IPython.core.display.Javascript object>"
      ]
     },
     "metadata": {},
     "output_type": "display_data"
    },
    {
     "data": {
      "application/javascript": [
       "if (typeof Jupyter !== \"undefined\") {require.undef(\"nbextensions/vpython_libraries/glowcomm\");}else{element.textContent = ' ';}"
      ],
      "text/plain": [
       "<IPython.core.display.Javascript object>"
      ]
     },
     "metadata": {},
     "output_type": "display_data"
    },
    {
     "data": {
      "application/javascript": [
       "if (typeof Jupyter !== \"undefined\") {require.undef(\"nbextensions/vpython_libraries/jquery-ui.custom.min\");}else{element.textContent = ' ';}"
      ],
      "text/plain": [
       "<IPython.core.display.Javascript object>"
      ]
     },
     "metadata": {},
     "output_type": "display_data"
    },
    {
     "data": {
      "application/javascript": [
       "if (typeof Jupyter !== \"undefined\") {require([\"nbextensions/vpython_libraries/glow.min\"], function(){console.log(\"GLOW LOADED\");});}else{element.textContent = ' ';}"
      ],
      "text/plain": [
       "<IPython.core.display.Javascript object>"
      ]
     },
     "metadata": {},
     "output_type": "display_data"
    },
    {
     "data": {
      "application/javascript": [
       "if (typeof Jupyter !== \"undefined\") {require([\"nbextensions/vpython_libraries/glowcomm\"], function(){console.log(\"GLOWCOMM LOADED\");});}else{element.textContent = ' ';}"
      ],
      "text/plain": [
       "<IPython.core.display.Javascript object>"
      ]
     },
     "metadata": {},
     "output_type": "display_data"
    },
    {
     "data": {
      "application/javascript": [
       "if (typeof Jupyter !== \"undefined\") {require([\"nbextensions/vpython_libraries/jquery-ui.custom.min\"], function(){console.log(\"JQUERY LOADED\");});}else{element.textContent = ' ';}"
      ],
      "text/plain": [
       "<IPython.core.display.Javascript object>"
      ]
     },
     "metadata": {},
     "output_type": "display_data"
    },
    {
     "name": "stdout",
     "output_type": "stream",
     "text": [
      "Number of iterations =  99\n",
      "Final Solution:\n",
      "x[0] = 0.7610026921018717\n",
      "x[1] = 0.2649538102807027\n",
      "x[2] = 0.8357058293571064\n",
      "x[3] = 0.6487487207029421\n",
      "x[4] = 0.9642611048972873\n",
      "x[5] = 0.549177354575506\n",
      "x[6] = 17.160209784607293\n",
      "x[7] = 11.54527968432776\n",
      "x[8] = 20.271578044639117\n"
     ]
    }
   ],
   "source": [
    "for it in range(1, 100):\n",
    "    rate(30)  # 1 second between graphs\n",
    "    F(x, f)\n",
    "    dFi_dXj(x, deriv, n)\n",
    "    B = np.array(\n",
    "        [\n",
    "            [-f[0]],\n",
    "            [-f[1]],\n",
    "            [-f[2]],\n",
    "            [-f[3]],\n",
    "            [-f[4]],\n",
    "            [-f[5]],\n",
    "            [-f[6]],\n",
    "            [-f[7]],\n",
    "            [-f[8]],\n",
    "        ]\n",
    "    )\n",
    "    sol = np.linalg.solve(deriv, B)\n",
    "    dx = np.take(sol, (0,), 1)  # First column of sol\n",
    "    for i in range(0, n):\n",
    "        x[i] = x[i] + dx[i]\n",
    "    plotconfig()\n",
    "    errX = errF = errXi = 0.0\n",
    "    for i in range(0, n):\n",
    "        if x[i] != 0.0:\n",
    "            errXi = abs(dx[i] / x[i])\n",
    "        else:\n",
    "            errXi = abs(dx[i])\n",
    "        if errXi > errX:\n",
    "            errX = errXi\n",
    "        if abs(f[i]) > errF:\n",
    "            errF = abs(f[i])\n",
    "        if (errX <= eps) and (errF <= eps):\n",
    "            break\n",
    "\n",
    "print(\"Number of iterations = \", it)\n",
    "print(\"Final Solution:\")\n",
    "for i in range(0, n):\n",
    "    print(f\"x[{i}] = {x[i]}\")"
   ]
  },
  {
   "cell_type": "code",
   "execution_count": null,
   "metadata": {},
   "outputs": [],
   "source": []
  }
 ],
 "metadata": {
  "kernelspec": {
   "display_name": "Python 3",
   "language": "python",
   "name": "python3"
  },
  "language_info": {
   "codemirror_mode": {
    "name": "ipython",
    "version": 3
   },
   "file_extension": ".py",
   "mimetype": "text/x-python",
   "name": "python",
   "nbconvert_exporter": "python",
   "pygments_lexer": "ipython3",
   "version": "3.7.7"
  }
 },
 "nbformat": 4,
 "nbformat_minor": 4
}
