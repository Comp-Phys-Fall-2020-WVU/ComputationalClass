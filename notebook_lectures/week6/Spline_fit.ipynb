{
 "cells": [
  {
   "cell_type": "code",
   "execution_count": 1,
   "metadata": {},
   "outputs": [],
   "source": [
    "\"\"\" From \"COMPUTATIONAL PHYSICS\", 3rd Ed, Enlarged Python eTextBook  \n",
    "    by RH Landau, MJ Paez, and CC Bordeianu\n",
    "    Copyright Wiley-VCH Verlag GmbH & Co. KGaA, Berlin;  Copyright R Landau,\n",
    "    Oregon State Unv, MJ Paez, Univ Antioquia, C Bordeianu, Univ Bucharest, 2015.\n",
    "    Support by National Science Foundation\"\"\"\n",
    "\n",
    "# SplineInteract.py  Spline fit\n",
    "# page 157 in Book\n",
    "\n",
    "import matplotlib.pyplot as plt"
   ]
  },
  {
   "cell_type": "code",
   "execution_count": 2,
   "metadata": {},
   "outputs": [],
   "source": [
    "import numpy as np"
   ]
  },
  {
   "cell_type": "code",
   "execution_count": 3,
   "metadata": {},
   "outputs": [
    {
     "data": {
      "text/plain": [
       "[<matplotlib.lines.Line2D at 0x7fc52f1895d0>]"
      ]
     },
     "execution_count": 3,
     "metadata": {},
     "output_type": "execute_result"
    },
    {
     "data": {
      "image/png": "[encoded data removed]",
      "text/plain": [
       "<Figure size 432x288 with 1 Axes>"
      ]
     },
     "metadata": {
      "needs_background": "light"
     },
     "output_type": "display_data"
    }
   ],
   "source": [
    "x = np.array([0.0, 0.12, 0.25, 0.37, 0.5, 0.62, 0.75, 0.87, 0.99])  # input\n",
    "y = np.array([10.6, 16.0, 45.0, 83.5, 52.8, 19.9, 10.8, 8.25, 4.7])\n",
    "n = 9\n",
    "plt.plot(x,y,marker=11)"
   ]
  },
  {
   "cell_type": "markdown",
   "metadata": {},
   "source": [
    "Now let us fit cubic polynomials at each interval, with the constraint that the first and second derivative are continouous. As follows:\n",
    "$$\n",
    "g(x) \\approx g_i(x) \\;\\;\\;\\; x_i \\le x \\le x_{i+1}\n",
    "$$\n",
    "where\n",
    "$$\n",
    "g_i(x) = g_i + g_i'(x-x_i) + \\frac{1}{2} g_i''(x-x_i)^2 + \\frac{1}{6} g_i'''(x-x_i)^3\n",
    "$$\n",
    "Now, the process is to find $g_i, g_i', g_i'', g_i'''$, how? by requesting that\n",
    "$$\n",
    "g_i(x_{i-1}) = y_{i-1} \\;\\;\\;\\; g_i(x_{i}) = y_{i}  \\;\\;\\;\\; i=1,\\cdots, n\\\\\n",
    "g_i'(x_{i}) = g_{i+1}'(x_{i}) \\;\\;\\;\\; i=1,\\cdots, n-1\\\\\n",
    "g_i''(x_{i}) = g_{i+1}''(x_{i}) \\;\\;\\;\\; i=1,\\cdots, n-1\n",
    "$$\n",
    "Here, we have a total of $n+n+(n-1)+(n-1)$ conditions and we need to find $4n$. Therefore to find the other 2, we only use boundary conditions. Three are the most used ones:\n",
    "\n",
    "+ $g_1'(x_0) = f_0'$, $g_n'(x_n) = f_n'$\n",
    "+ $g_1''(x_0) = f_0''$, $g_n''(x_n) = f_n''$ \n",
    "+ $g_1(x_0)=g_n(x_n)$, $g_1'(x_0)=g_n'(x_n)$, $g_1''(x_0)=g_n''(x_n)$ (periodic boundary)\n",
    "\n",
    "Where $f_i'$ is the derivative estimate from f_i."
   ]
  },
  {
   "cell_type": "code",
   "execution_count": 9,
   "metadata": {},
   "outputs": [],
   "source": [
    "# Initialize\n",
    "y2 = np.zeros_like(y)\n",
    "u = np.zeros_like(y)\n",
    "\n",
    "Nfit = 100  # Original algorithm did Nfit + 1 points instead\n",
    "\n",
    "Xfit = np.zeros((Nfit), float)\n",
    "Yfit = np.zeros((Nfit), float)\n",
    "\n",
    "yp1 = (\n",
    "    (y[1] - y[0]) / (x[1] - x[0])\n",
    "    - (y[2] - y[1]) / (x[2] - x[1])\n",
    "    + (y[2] - y[0]) / (x[2] - x[0])\n",
    ")\n",
    "\n",
    "ypn = (\n",
    "    (y[-1] - y[-2]) / (x[-1] - x[-2])\n",
    "    - (y[-2] - y[-3]) / (x[-2] - x[-3])\n",
    "    + (y[-1] - y[-3]) / (x[-1] - x[-3])\n",
    ")\n",
    "\n",
    "if yp1 > 0.99e30:\n",
    "    y2[0] = 0.0\n",
    "    u[0] = 0.0\n",
    "\n",
    "else:\n",
    "    y2[0] = -0.5\n",
    "    u[0] = 3 / (x[1] - x[0]) * ((y[1] - y[0]) / (x[1] - x[0]) - yp1)\n",
    "\n",
    "for i in range(1, n - 1):  # Decomp loop\n",
    "    sig = (x[i] - x[i - 1]) / (x[i + 1] - x[i - 1])\n",
    "    p = sig * y2[i - 1] + 2.0\n",
    "    y2[i] = (sig - 1.0) / p\n",
    "    u[i] = (y[i + 1] - y[i]) / (x[i + 1] - x[i]) - (y[i] - y[i - 1]) / (x[i] - x[i - 1])\n",
    "\n",
    "    u[i] = (6.0 * u[i] / (x[i + 1] - x[i - 1]) - sig * u[i - 1]) / p\n",
    "\n",
    "if ypn > 0.99e30:  # Test for natural\n",
    "    qn = un = 0.0\n",
    "else:\n",
    "    qn = 0.5\n",
    "    un = 3 / (x[-1] - x[-2]) * (ypn - (y[-1] - y[-2]) / (x[-1] - x[-2]))\n",
    "\n",
    "y2[-1] = (un - qn * u[-2]) / (qn * y2[-2] + 1)\n",
    "\n",
    "for k in range(n - 2, 1, -1):\n",
    "    y2[k] = y2[k] * y2[k + 1] + u[k]\n",
    "\n",
    "for i in range(Nfit):  # Begin fit\n",
    "    xout = x[0] + (x[-1] - x[0]) * i / (Nfit - 1)\n",
    "    klo = 0  # Bisection algor\n",
    "    khi = n - 1\n",
    "    while khi - klo > 1:\n",
    "        k = khi + klo >> 1\n",
    "        if x[k] > xout:\n",
    "            khi = k\n",
    "        else:\n",
    "            klo = k\n",
    "\n",
    "    h = x[khi] - x[klo]\n",
    "\n",
    "    if x[k] > xout:\n",
    "        khi = k\n",
    "    else:\n",
    "        klo = k\n",
    "\n",
    "    h = x[khi] - x[klo]\n",
    "    a = (x[khi] - xout) / h\n",
    "    b = (xout - x[klo]) / h\n",
    "    yout = (\n",
    "        a * y[klo]\n",
    "        + b * y[khi]\n",
    "        + ((a * a * a - a) * y2[klo] + (b * b * b - b) * y2[khi]) * h * h / 6\n",
    "    )\n",
    "\n",
    "    Xfit[i] = xout\n",
    "    Yfit[i] = yout"
   ]
  },
  {
   "cell_type": "code",
   "execution_count": 10,
   "metadata": {},
   "outputs": [],
   "source": [
    "from scipy.interpolate import CubicSpline"
   ]
  },
  {
   "cell_type": "code",
   "execution_count": 11,
   "metadata": {},
   "outputs": [
    {
     "data": {
      "image/png": "[encoded data removed]",
      "text/plain": [
       "<Figure size 864x504 with 1 Axes>"
      ]
     },
     "metadata": {
      "needs_background": "light"
     },
     "output_type": "display_data"
    }
   ],
   "source": [
    "plt.figure(figsize=(12, 7))\n",
    "plt.plot(x, y, \"o\")\n",
    "plt.plot(Xfit, CubicSpline(x, y)(Xfit), \"-\")\n",
    "plt.plot(Xfit, Yfit, \".\")\n",
    "plt.show()"
   ]
  },
  {
   "cell_type": "code",
   "execution_count": null,
   "metadata": {},
   "outputs": [],
   "source": []
  }
 ],
 "metadata": {
  "kernelspec": {
   "display_name": "Python 3",
   "language": "python",
   "name": "python3"
  },
  "language_info": {
   "codemirror_mode": {
    "name": "ipython",
    "version": 3
   },
   "file_extension": ".py",
   "mimetype": "text/x-python",
   "name": "python",
   "nbconvert_exporter": "python",
   "pygments_lexer": "ipython3",
   "version": "3.7.7"
  }
 },
 "nbformat": 4,
 "nbformat_minor": 4
}
