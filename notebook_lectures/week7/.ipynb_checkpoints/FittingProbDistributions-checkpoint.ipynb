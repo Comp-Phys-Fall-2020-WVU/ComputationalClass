{
 "cells": [
  {
   "cell_type": "markdown",
   "metadata": {},
   "source": [
    "# Fitting distributions\n",
    "\n",
    "## Objectives:\n",
    "* Talk a bit about errors in Python\n",
    "* Look at fitting simple distributions, binned and unbinned\n",
    "* Mention other libraries for fitting"
   ]
  },
  {
   "cell_type": "markdown",
   "metadata": {},
   "source": [
    "#### Note on terminology\n",
    "\n",
    "I try to introduce the relevant terminology when we talk about new subject. Though I have introduced several of these concepts before.\n",
    "\n",
    "This is not meant to spew jargon at you, but rather to give you something you can Google."
   ]
  },
  {
   "cell_type": "markdown",
   "metadata": {},
   "source": [
    "## Errors\n",
    "\n",
    "* The most serious sort of error: A segfault\n",
    "    - Issue with the underlying compiled code\n",
    "    - *Very* rare in Python itself, can be intentionally caused or a bug in libraries\n",
    "* Most errors are \"Exceptions\": A control flow feature in Python - and you can act on and work with them!\n",
    "    - You can even use Exceptions for things that are not errors"
   ]
  },
  {
   "cell_type": "markdown",
   "metadata": {},
   "source": [
    "### Exceptions\n",
    "\n",
    "Exceptions are designed to interrupt the control flow for \"exceptional\" events. This makes writing safe code much easier - could you imagine if every function had to return an error status, and you had to check the status and also return your own error status if it was bad? (If you can imagine it, congratulations, you can write C code)."
   ]
  },
  {
   "cell_type": "markdown",
   "metadata": {},
   "source": [
    "Imagine this:"
   ]
  },
  {
   "cell_type": "code",
   "execution_count": 2,
   "metadata": {},
   "outputs": [
    {
     "name": "stdout",
     "output_type": "stream",
     "text": [
      "Error in calculations\n"
     ]
    }
   ],
   "source": [
    "def f(x):\n",
    "    s = 0\n",
    "    for i in range(10):\n",
    "        if x == 0:\n",
    "            return 0, \"Error in calculations\"\n",
    "        s += i / x\n",
    "    return s, \"\"\n",
    "\n",
    "\n",
    "value, error = f(0)\n",
    "\n",
    "if error:\n",
    "    print(error)\n",
    "else:\n",
    "    print(value)"
   ]
  },
  {
   "cell_type": "markdown",
   "metadata": {},
   "source": [
    "Compare to this:"
   ]
  },
  {
   "cell_type": "code",
   "execution_count": 3,
   "metadata": {},
   "outputs": [
    {
     "name": "stdout",
     "output_type": "stream",
     "text": [
      "Error in calculations\n"
     ]
    }
   ],
   "source": [
    "def f(x):\n",
    "    s = 0\n",
    "    for i in range(10):\n",
    "        if x == 0:\n",
    "            raise RuntimeError(\"Error in calculations\")\n",
    "        s += i / x\n",
    "    return s\n",
    "\n",
    "\n",
    "try:\n",
    "    value = f(0)\n",
    "    print(value)\n",
    "except RuntimeError as e:\n",
    "    print(e)\n",
    "\n",
    "# Try running this without the try/catch to see the full exception printout"
   ]
  },
  {
   "cell_type": "markdown",
   "metadata": {},
   "source": [
    "The benefits to the second example:\n",
    "\n",
    "* This nests; the in-between functions don't need to know about the Exception in the inner function or the check in the outer function\n",
    "    - Exceptions just bubble up through the stack\n",
    "* This keeps errors from interfering with the function return values\n",
    "* If we remove the Exception checking, we get a Python error message\n",
    "* If we remove the check, Python automatically throws an exception when you divide by zero!\n",
    "* The code is faster if we don't throw an exception often"
   ]
  },
  {
   "cell_type": "code",
   "execution_count": 8,
   "metadata": {},
   "outputs": [
    {
     "name": "stdout",
     "output_type": "stream",
     "text": [
      "division by zero\n",
      "2\n"
     ]
    }
   ],
   "source": [
    "def f(x):\n",
    "    s = 0\n",
    "    for i in range(10):\n",
    "        s += i / x\n",
    "    return s\n",
    "\n",
    "      \n",
    "try:\n",
    "    value = f(0)\n",
    "    print(value)\n",
    "except ZeroDivisionError as e:\n",
    "    print(e)\n",
    "a=1\n",
    "print(a+1)"
   ]
  },
  {
   "cell_type": "markdown",
   "metadata": {},
   "source": [
    "So now we see that Python has a ZeroDivisionError, and it is raised when you divide by zero. So we can now make a function that can take 0's without making an explicit check for 0!"
   ]
  },
  {
   "cell_type": "code",
   "execution_count": 9,
   "metadata": {},
   "outputs": [],
   "source": [
    "def direction_xy(vec):\n",
    "    \"\"\"\n",
    "    This takes a direction vector vec[0], vec[1], vec[2], and\n",
    "    returns the x and y componets of a vector with length 1 z component.\n",
    "    If the length of z is 0, returns [0,0].\n",
    "    \"\"\"\n",
    "\n",
    "    try:\n",
    "        return vec[0] / vec[2], vec[1] / vec[2]\n",
    "    except ZeroDivisionError:\n",
    "        return vec[0] * 0, vec[1] * 0\n",
    "\n",
    "\n",
    "def direction_xy_classic(vec):\n",
    "    if vec[2] == 0:\n",
    "        return vec[0] * 0, vec[1] * 0\n",
    "    else:\n",
    "        return vec[0] / vec[2], vec[1] / vec[2]"
   ]
  },
  {
   "cell_type": "markdown",
   "metadata": {},
   "source": [
    "The version that does not check will be faster when the exception is not caught - you are not paying for an extra check:"
   ]
  },
  {
   "cell_type": "code",
   "execution_count": 10,
   "metadata": {},
   "outputs": [
    {
     "name": "stdout",
     "output_type": "stream",
     "text": [
      "230 ns ± 5.91 ns per loop (mean ± std. dev. of 7 runs, 1000000 loops each)\n"
     ]
    }
   ],
   "source": [
    "%%timeit\n",
    "direction_xy((1, 2, 3))"
   ]
  },
  {
   "cell_type": "code",
   "execution_count": 11,
   "metadata": {},
   "outputs": [
    {
     "name": "stdout",
     "output_type": "stream",
     "text": [
      "264 ns ± 10.6 ns per loop (mean ± std. dev. of 7 runs, 1000000 loops each)\n"
     ]
    }
   ],
   "source": [
    "%%timeit\n",
    "direction_xy_classic((1, 2, 3))"
   ]
  },
  {
   "cell_type": "markdown",
   "metadata": {},
   "source": [
    "However, the exception catching mechanism is slower than the normal control flow if it does get caught a lot:"
   ]
  },
  {
   "cell_type": "code",
   "execution_count": 12,
   "metadata": {},
   "outputs": [
    {
     "name": "stdout",
     "output_type": "stream",
     "text": [
      "675 ns ± 99.8 ns per loop (mean ± std. dev. of 7 runs, 1000000 loops each)\n"
     ]
    }
   ],
   "source": [
    "%%timeit\n",
    "direction_xy((1, 2, 0))"
   ]
  },
  {
   "cell_type": "code",
   "execution_count": 13,
   "metadata": {},
   "outputs": [
    {
     "name": "stdout",
     "output_type": "stream",
     "text": [
      "232 ns ± 8.8 ns per loop (mean ± std. dev. of 7 runs, 1000000 loops each)\n"
     ]
    }
   ],
   "source": [
    "%%timeit\n",
    "direction_xy_classic((1, 2, 0))"
   ]
  },
  {
   "cell_type": "markdown",
   "metadata": {},
   "source": [
    "### Exception throwing\n",
    "\n",
    "You have a large collection of standard exceptions in Python:\n",
    "\n",
    "* <https://docs.python.org/3.7/library/exceptions.html>\n",
    "\n",
    "You can make a new one trivially:\n",
    "\n",
    "```python\n",
    "class MyException(RuntimeError):\n",
    "    pass\n",
    "```\n",
    "\n",
    "### Exception catching\n",
    "\n",
    "You put the code that might throw an exception in a `try:` block.\n",
    "\n",
    "You put the possible exception catching parts in one or more `except Name:` block following that. It contains the name of the exception type - you can list multiple exception type to catch, and any subclasses will also be caught. You can optionally keep a reference to the exception to use by using `as`. You can even reraise the exception with `raise`. You can also `raise Err() from y` (Python 3) to give users a more explicit traceback. Or `raise Err() from None` to give a less explicit traceback (hides the original exception).\n",
    "\n",
    "You optionally can put in a `else` block which runs if no exceptions were caught, and a `finally` block, which runs no-matter-what (for cleanup, usually). See [this or PEP 341](https://docs.python.org/2.5/whatsnew/pep-341.html)."
   ]
  },
  {
   "cell_type": "markdown",
   "metadata": {},
   "source": [
    "Here's a playground for you. Try changing the caught exception type to `RuntimeError` and then another type of error, and experiment a bit."
   ]
  },
  {
   "cell_type": "code",
   "execution_count": null,
   "metadata": {},
   "outputs": [],
   "source": [
    "class MyException(RuntimeError):\n",
    "    pass\n",
    "\n",
    "\n",
    "def f():\n",
    "    raise MyException()\n",
    "\n",
    "\n",
    "try:\n",
    "    f()\n",
    "except MyException:\n",
    "    print(\"Caught Exception!\")"
   ]
  },
  {
   "cell_type": "markdown",
   "metadata": {},
   "source": [
    "### Common example: Optional import\n",
    "\n",
    "Let's say you want to import a package, but you are fine if it doesn't exist - you'll just deactivate some features. Here's the standard way to do it:"
   ]
  },
  {
   "cell_type": "code",
   "execution_count": null,
   "metadata": {},
   "outputs": [],
   "source": [
    "try:\n",
    "    import some_fancy_printout_package_that_does_not_exist\n",
    "except ImportError:\n",
    "    some_fancy_printout_package_that_does_not_exist = None\n",
    "\n",
    "if some_fancy_printout_package_that_does_not_exist:\n",
    "    print(\"Using fancy printout\")\n",
    "else:\n",
    "    print(\"Not using fancy printout\")"
   ]
  },
  {
   "cell_type": "markdown",
   "metadata": {},
   "source": [
    "In Python, it is often **better to ask for forgiveness than to ask for permission**.\n",
    "\n",
    "This is can be better in more ways than just performance. What happens if you check for the existence of a file, find it exists, then try to open it, just to find it was deleted in the meantime?"
   ]
  },
  {
   "cell_type": "markdown",
   "metadata": {},
   "source": [
    "### Warnings\n",
    "\n",
    "Warnings are special - since they should not interrupt the control flow normally. So Python provides a `warning` module, with a `warn` function. It print a message unless you request warnings to be treated as errors, in which case it raises an error."
   ]
  },
  {
   "cell_type": "markdown",
   "metadata": {},
   "source": [
    "---"
   ]
  },
  {
   "cell_type": "markdown",
   "metadata": {},
   "source": [
    "## Creating Numbers with different probability distributions"
   ]
  },
  {
   "cell_type": "code",
   "execution_count": 1,
   "metadata": {},
   "outputs": [],
   "source": [
    "# import uniform distribution\n",
    "from scipy.stats import uniform"
   ]
  },
  {
   "cell_type": "code",
   "execution_count": 4,
   "metadata": {},
   "outputs": [
    {
     "name": "stdout",
     "output_type": "stream",
     "text": [
      "<class 'numpy.ndarray'>\n",
      "(10000,)\n",
      "[12.2012318  11.28213809 24.35731686 19.83209425 13.50458358 27.03494016\n",
      " 19.99509905 24.50972508 21.82302905 21.59636305]\n"
     ]
    }
   ],
   "source": [
    "# random numbers from uniform distribution\n",
    "n = 10000\n",
    "start = 10\n",
    "width = 20\n",
    "data_uniform = uniform.rvs(size=n, loc = start, scale=width)\n",
    "print(type(data_uniform))\n",
    "print(data_uniform.shape)\n",
    "print(data_uniform[:10])"
   ]
  },
  {
   "cell_type": "code",
   "execution_count": 6,
   "metadata": {},
   "outputs": [],
   "source": [
    "# import seaborn\n",
    "import seaborn as sns\n",
    "# settings for seaborn plotting style\n",
    "sns.set(color_codes=True)\n",
    "# settings for seaborn plot sizes\n",
    "sns.set(rc={'figure.figsize':(5,5)})"
   ]
  },
  {
   "cell_type": "code",
   "execution_count": 7,
   "metadata": {},
   "outputs": [
    {
     "name": "stderr",
     "output_type": "stream",
     "text": [
      "/usr/local/anaconda/lib/python3.7/site-packages/seaborn/distributions.py:2551: FutureWarning: `distplot` is a deprecated function and will be removed in a future version. Please adapt your code to use either `displot` (a figure-level function with similar flexibility) or `histplot` (an axes-level function for histograms).\n",
      "  warnings.warn(msg, FutureWarning)\n"
     ]
    },
    {
     "data": {
      "text/plain": [
       "[Text(0.5, 0, 'Uniform Distribution '), Text(0, 0.5, 'Frequency')]"
      ]
     },
     "execution_count": 7,
     "metadata": {},
     "output_type": "execute_result"
    },
    {
     "data": {
      "image/png": "[encoded data removed]",
      "text/plain": [
       "<Figure size 360x360 with 1 Axes>"
      ]
     },
     "metadata": {},
     "output_type": "display_data"
    }
   ],
   "source": [
    "#A kernel density estimate (KDE) plot is a method for visualizing the distribution of observations in a \n",
    "# dataset, analagous to a histogram. KDE represents the data using a continuous probability density curve \n",
    "# in one or more dimensions.\n",
    "ax = sns.distplot(data_uniform,\n",
    "                  bins=100,\n",
    "                  kde=True,\n",
    "                  color='skyblue',\n",
    "                  hist_kws={\"linewidth\": 15,'alpha':1})\n",
    "ax.set(xlabel='Uniform Distribution ', ylabel='Frequency')"
   ]
  },
  {
   "cell_type": "code",
   "execution_count": 8,
   "metadata": {},
   "outputs": [],
   "source": [
    "# Gamma distribution\n",
    "from scipy.stats import gamma\n",
    "data_gamma = gamma.rvs(a=5, size=10000)"
   ]
  },
  {
   "cell_type": "code",
   "execution_count": 9,
   "metadata": {},
   "outputs": [
    {
     "name": "stderr",
     "output_type": "stream",
     "text": [
      "/usr/local/anaconda/lib/python3.7/site-packages/seaborn/distributions.py:2551: FutureWarning: `distplot` is a deprecated function and will be removed in a future version. Please adapt your code to use either `displot` (a figure-level function with similar flexibility) or `histplot` (an axes-level function for histograms).\n",
      "  warnings.warn(msg, FutureWarning)\n"
     ]
    },
    {
     "data": {
      "text/plain": [
       "[Text(0.5, 0, 'Gamma Distribution'), Text(0, 0.5, 'Frequency')]"
      ]
     },
     "execution_count": 9,
     "metadata": {},
     "output_type": "execute_result"
    },
    {
     "data": {
      "image/png": "[encoded data removed]",
      "text/plain": [
       "<Figure size 360x360 with 1 Axes>"
      ]
     },
     "metadata": {},
     "output_type": "display_data"
    }
   ],
   "source": [
    "ax = sns.distplot(data_gamma,\n",
    "                  kde=True,\n",
    "                  bins=100,\n",
    "                  color='skyblue',\n",
    "                  hist_kws={\"linewidth\": 15,'alpha':1})\n",
    "ax.set(xlabel='Gamma Distribution', ylabel='Frequency')"
   ]
  },
  {
   "cell_type": "code",
   "execution_count": 10,
   "metadata": {},
   "outputs": [
    {
     "name": "stderr",
     "output_type": "stream",
     "text": [
      "/usr/local/anaconda/lib/python3.7/site-packages/seaborn/distributions.py:2551: FutureWarning: `distplot` is a deprecated function and will be removed in a future version. Please adapt your code to use either `displot` (a figure-level function with similar flexibility) or `histplot` (an axes-level function for histograms).\n",
      "  warnings.warn(msg, FutureWarning)\n"
     ]
    },
    {
     "data": {
      "text/plain": [
       "[Text(0.5, 0, 'Poisson Distribution'), Text(0, 0.5, 'Frequency')]"
      ]
     },
     "execution_count": 10,
     "metadata": {},
     "output_type": "execute_result"
    },
    {
     "data": {
      "image/png": "[encoded data removed]",
      "text/plain": [
       "<Figure size 360x360 with 1 Axes>"
      ]
     },
     "metadata": {},
     "output_type": "display_data"
    }
   ],
   "source": [
    "from scipy.stats import poisson\n",
    "data_poisson = poisson.rvs(mu=3, size=10000)\n",
    "ax = sns.distplot(data_poisson,\n",
    "                  bins=30,\n",
    "                  kde=False,\n",
    "                  color='skyblue',\n",
    "                  hist_kws={\"linewidth\": 15,'alpha':1})\n",
    "ax.set(xlabel='Poisson Distribution', ylabel='Frequency')"
   ]
  },
  {
   "cell_type": "markdown",
   "metadata": {},
   "source": [
    "# Fitting distributions\n",
    "\n",
    "We can fit distributions with Python - though we'll need to look around a bit to find good ways to fit more complex distributions. Let's try the simplest case and SciPy first:"
   ]
  },
  {
   "cell_type": "code",
   "execution_count": 27,
   "metadata": {},
   "outputs": [],
   "source": [
    "from scipy.stats import norm, multivariate_normal\n",
    "import matplotlib.pyplot as plt\n",
    "import numpy as np"
   ]
  },
  {
   "cell_type": "code",
   "execution_count": 34,
   "metadata": {},
   "outputs": [],
   "source": [
    "# here we generate random numbers  with a given mean and standard deviation\n",
    "gauss_X = norm.rvs(1, 2, 200_000)"
   ]
  },
  {
   "cell_type": "code",
   "execution_count": 35,
   "metadata": {},
   "outputs": [
    {
     "data": {
      "image/png": "[encoded data removed]",
      "text/plain": [
       "<Figure size 432x288 with 1 Axes>"
      ]
     },
     "metadata": {
      "needs_background": "light"
     },
     "output_type": "display_data"
    }
   ],
   "source": [
    "plt.hist(gauss_X, bins=\"auto\")\n",
    "plt.show()"
   ]
  },
  {
   "cell_type": "code",
   "execution_count": 30,
   "metadata": {},
   "outputs": [
    {
     "name": "stdout",
     "output_type": "stream",
     "text": [
      "mean = 0.9927175530921715, sigma = 2.002381394078278\n"
     ]
    }
   ],
   "source": [
    "mean, sigma = norm.fit(gauss_X)\n",
    "print(f\"mean = {mean}, sigma = {sigma}\")"
   ]
  },
  {
   "cell_type": "markdown",
   "metadata": {},
   "source": [
    "Note that we have no error information, no pretty much anything... Just a result.\n",
    "\n",
    "And, we can make a ND Gaussian, including covariance:"
   ]
  },
  {
   "cell_type": "code",
   "execution_count": 36,
   "metadata": {},
   "outputs": [
    {
     "name": "stdout",
     "output_type": "stream",
     "text": [
      "(100000, 2)\n"
     ]
    },
    {
     "data": {
      "image/png": "[encoded data removed]",
      "text/plain": [
       "<Figure size 432x288 with 1 Axes>"
      ]
     },
     "metadata": {
      "needs_background": "light"
     },
     "output_type": "display_data"
    }
   ],
   "source": [
    "XY = multivariate_normal.rvs([1, 2], cov=[[0.5, 0.3], [0.3, 2]], size=100_000)\n",
    "print(XY.shape)\n",
    "plt.hist2d(*XY.T, bins=100)\n",
    "plt.gca().set_aspect(\"equal\")\n",
    "plt.show()"
   ]
  },
  {
   "cell_type": "markdown",
   "metadata": {},
   "source": [
    "But... Multivariate norm is missing a fit function! Ugh..."
   ]
  },
  {
   "cell_type": "markdown",
   "metadata": {},
   "source": [
    "### Fitting by hand\n",
    "\n",
    "You already know how to bin and fit:"
   ]
  },
  {
   "cell_type": "code",
   "execution_count": 37,
   "metadata": {},
   "outputs": [],
   "source": [
    "from scipy.optimize import curve_fit, minimize"
   ]
  },
  {
   "cell_type": "markdown",
   "metadata": {},
   "source": [
    "Reminder, curve fits wants a function that take 1 data parameter followed by functional parameters:\n",
    "\n",
    "<!--\n",
    "vals, edges = np.histogram(gauss_X, bins=25)\n",
    "errs = 1/np.sqrt(vals)\n",
    "vals = vals / np.sum(vals) / (edges[1] - edges[0])\n",
    "centers = (edges[1:] + edges[:-1])/2\n",
    "curve_fit(norm.pdf, centers, vals, [1,1], sigma=errs)\n",
    "-->"
   ]
  },
  {
   "cell_type": "code",
   "execution_count": 39,
   "metadata": {},
   "outputs": [
    {
     "data": {
      "text/plain": [
       "(array([0.99950602, 2.01035005]),\n",
       " array([[4.64270364e-06, 8.71717157e-14],\n",
       "        [8.71717157e-14, 3.09513586e-06]]))"
      ]
     },
     "execution_count": 39,
     "metadata": {},
     "output_type": "execute_result"
    }
   ],
   "source": [
    "vals, edges = np.histogram(gauss_X, bins=25, density=True)\n",
    "centers = (edges[1:] + edges[:-1]) / 2\n",
    "curve_fit(norm.pdf, centers, vals, [1, 1])"
   ]
  },
  {
   "cell_type": "code",
   "execution_count": 40,
   "metadata": {},
   "outputs": [
    {
     "data": {
      "image/png": "[encoded data removed]",
      "text/plain": [
       "<Figure size 432x288 with 1 Axes>"
      ]
     },
     "metadata": {
      "needs_background": "light"
     },
     "output_type": "display_data"
    }
   ],
   "source": [
    "xs = np.linspace(edges[0], edges[-1], 500)\n",
    "plt.plot(xs, norm.pdf(xs, 1, 2))\n",
    "plt.plot(centers, vals, \"o\")\n",
    "plt.show()"
   ]
  },
  {
   "cell_type": "markdown",
   "metadata": {},
   "source": [
    "Unbinned is not quite as easy, but we can still do it explicitly. We want to minimize an NLL:\n",
    "\n",
    "$$\n",
    "NLL = -\\sum_i \\ln\\left( P(x_i) \\right)\n",
    "$$\n",
    "\n",
    "The minimize function in scipy.optimize takes:\n",
    "\n",
    "* A function to minimize. It must take an iterable of parameters as the first argument. You can pass through other arguments using `args`.\n",
    "* An initial guess for parameters\n",
    "* Optional args to pass through."
   ]
  },
  {
   "cell_type": "code",
   "execution_count": null,
   "metadata": {},
   "outputs": [],
   "source": [
    "def NLL_gauss(params, x):\n",
    "    mu, sigma = params\n",
    "    y = norm.pdf(x, mu, sigma)\n",
    "    return -np.sum(np.log(y))"
   ]
  },
  {
   "cell_type": "code",
   "execution_count": null,
   "metadata": {},
   "outputs": [],
   "source": [
    "minimize(NLL_gauss, [0.9, 1.8], args=(gauss_X,))"
   ]
  },
  {
   "cell_type": "code",
   "execution_count": null,
   "metadata": {},
   "outputs": [],
   "source": [
    "type(_)"
   ]
  },
  {
   "cell_type": "markdown",
   "metadata": {},
   "source": [
    "Try methods to fix the `success=False`:\n",
    "\n",
    "* Set a low `tol=` parameter\n",
    "* Increase the number of samples\n",
    "* Try `method = 'Nelder-Mead'`"
   ]
  },
  {
   "cell_type": "markdown",
   "metadata": {},
   "source": [
    "Warning: we've skipped something important by using the Gaussian pdf from Scipy: It is normalized! We need normalized PDF functions for this to work. If you write your own, you need a normalized function."
   ]
  },
  {
   "cell_type": "markdown",
   "metadata": {},
   "source": [
    "## Other tools\n",
    "\n",
    "So, this can be done by hand; but several things are missing:\n",
    "\n",
    "* Easy ways to build distribution PDFs, especially combinations\n",
    "    * Even would be nicer if high-speed/GPU calculations possible\n",
    "* Extra error information, including asymmetric errors\n",
    "* Pretty fitting API\n",
    "* Better parameter limit control, and nice API\n",
    "* Automatic derivatives of fitting function (though you can pass a manual one!)"
   ]
  },
  {
   "cell_type": "markdown",
   "metadata": {},
   "source": [
    "Some packages exist:\n",
    "\n",
    "* [LMFit][]: Seems to be one of the common tools outside of HEP - it doesn't seem to like unbinned fits, though.\n",
    "* [iMinuit][] and [probfit][]: HEP tools made available to normal Pythonistas. Probfit pip package broken on Python 3.\n",
    "* [RooFit][]: A ROOT tool for fitting. Very powerful, very slow, very hard to install and keep from segfaulting\n",
    "* [GooFit][]: A GPU/OpenMP tool, fast but new PDFs must be added in C++/CUDA.\n",
    "\n",
    "[LMFit]: http://cars9.uchicago.edu/software/python/lmfit_MinimizerResult/index.html\n",
    "[iMinuit]: https://iminuit.readthedocs.io/en/latest/\n",
    "[probfit]: https://probfit.readthedocs.io/en/latest/\n",
    "[RooFit]: http://roofit.sourceforge.net\n",
    "[GooFit]: https://goofit.github.io"
   ]
  },
  {
   "cell_type": "markdown",
   "metadata": {},
   "source": [
    "The general design is somewhat similar. You need the following pieces:\n",
    "\n",
    "* Parameters: variables you minimize\n",
    "* Data: The input data - often provides Observables for each dimension\n",
    "* Models: Common \"parts\" that you can combine\n",
    "* Normalization: When fitting, you need to normalize for the NLL to work. (Missing in LMFit?)\n",
    "* Fitter: something to do the fitting"
   ]
  },
  {
   "cell_type": "code",
   "execution_count": 13,
   "metadata": {},
   "outputs": [],
   "source": [
    "from lmfit.models import GaussianModel, LinearModel"
   ]
  },
  {
   "cell_type": "code",
   "execution_count": 14,
   "metadata": {},
   "outputs": [],
   "source": [
    "gauss_part = np.random.normal(1, 2, size=100_000)\n",
    "lin_part = np.random.uniform(low=-10, high=10, size=50_000)\n",
    "total_rand = np.concatenate([gauss_part, lin_part])"
   ]
  },
  {
   "cell_type": "code",
   "execution_count": 15,
   "metadata": {},
   "outputs": [],
   "source": [
    "model = GaussianModel(prefix=\"gauss_\") + LinearModel(prefix=\"lin_\")"
   ]
  },
  {
   "cell_type": "code",
   "execution_count": 16,
   "metadata": {},
   "outputs": [],
   "source": [
    "vals, edges = np.histogram(total_rand, bins=25, density=True)\n",
    "centers = (edges[1:] + edges[:-1]) / 2\n",
    "res = model.fit(vals, x=centers)"
   ]
  },
  {
   "cell_type": "code",
   "execution_count": 17,
   "metadata": {},
   "outputs": [
    {
     "name": "stdout",
     "output_type": "stream",
     "text": [
      "True\n"
     ]
    }
   ],
   "source": [
    "print(res.success)"
   ]
  },
  {
   "cell_type": "code",
   "execution_count": 18,
   "metadata": {},
   "outputs": [
    {
     "data": {
      "image/png": "[encoded data removed]",
      "text/plain": [
       "<Figure size 432x288 with 1 Axes>"
      ]
     },
     "metadata": {
      "needs_background": "light"
     },
     "output_type": "display_data"
    }
   ],
   "source": [
    "x = np.linspace(-10, 10)\n",
    "y = model.eval(params=res.params, x=x)\n",
    "plt.plot(x, y)\n",
    "plt.hist(total_rand, bins=25, density=True)\n",
    "plt.show()"
   ]
  },
  {
   "cell_type": "markdown",
   "metadata": {},
   "source": [
    "### Probfit\n",
    "\n",
    "If you do want to try probfit: The latest git version supports Python 3 (last release on PyPI: 2013). I'm bugging the new maintainer now. `pip install --user git+https://github.com/iminuit/probfit.git#egg=probfit`"
   ]
  },
  {
   "cell_type": "markdown",
   "metadata": {},
   "source": [
    "### GooFit\n",
    "\n",
    "If you really want to try GooFit, you can try this on OSC:\n",
    "\n",
    "```\n",
    "!pip install --user scikit-build cmake\n",
    "!PATH=$HOME/.local/bin:$PATH pip install --user --verbose goofit\n",
    "```\n",
    "\n",
    "The extra requirements here are partially to ensure it gets the highest level of optimization, and partially requirements that will eventually go away.\n",
    "\n",
    "If you are on macOS, scikit-build is broken, you'll need `!pip install scikit-build==0.6.1`."
   ]
  },
  {
   "cell_type": "code",
   "execution_count": 19,
   "metadata": {},
   "outputs": [],
   "source": [
    "import goofit"
   ]
  },
  {
   "cell_type": "code",
   "execution_count": 20,
   "metadata": {},
   "outputs": [],
   "source": [
    "x = goofit.Observable(\"x\", -10, 10)"
   ]
  },
  {
   "cell_type": "code",
   "execution_count": 21,
   "metadata": {},
   "outputs": [],
   "source": [
    "data = goofit.UnbinnedDataSet(x)"
   ]
  },
  {
   "cell_type": "code",
   "execution_count": 22,
   "metadata": {},
   "outputs": [],
   "source": [
    "data.from_matrix([total_rand], filter=True)"
   ]
  },
  {
   "cell_type": "code",
   "execution_count": 23,
   "metadata": {},
   "outputs": [
    {
     "data": {
      "text/markdown": [
       "\n",
       "If the Gaussian is the potato, what is the\n",
       "polynomial? Bread? Milk? Nothing exotic, at any rate. The GooFit\n",
       "version does have some subtleties, to allow for polynomials over an\n",
       "arbitrary number[^1] of dimensions:\n",
       "\n",
       "$$\n",
       "    P(\\vec x; \\vec a, \\vec x_0, N) =\n",
       "    \\sum\\limits_{p_1+p_2+\\ldots+p_n \\le N} a_{p_1p_2\\ldots p_n} \\prod\\limits_{i=1}^n (\\vec x - \\vec x_0)_i^{p_i}\n",
       "$$\n",
       "\n",
       "where $N$ is the highest degree of the polynomial and $n$ is the\n",
       "number of dimensions. The constructor takes a `vector` of\n",
       "observables, denoted $\\vec x$ above; a `vector` of coefficients,\n",
       "$\\vec a$, a `vector` of optional offsets $\\vec x_0$ (if not\n",
       "specified, these default to zero), and the maximum degree $N$. The\n",
       "coefficients are in the order\n",
       "$a_{p_0p_0\\ldots p_0}, a_{p_1p_0\\ldots p_0}, \\ldots a_{p_Np_0\\ldots p_0}, a_{p_0p_1\\ldots p_0}, a_{p_1p_1\\ldots p_0},\n",
       "\\ldots a_{p_0p_0\\ldots p_N}$. In other words, start at the index for\n",
       "the constant term, and increment the power of the leftmost\n",
       "observable. Every time the sum of the powers reaches $N$, reset the\n",
       "leftmost power to zero and increment the next-leftmost. When the\n",
       "next-leftmost reaches $N$, reset it to zero and increment the\n",
       "third-leftmost, and so on.\n",
       "\n",
       "An example may be helpful; for two\n",
       "dimensions $x$ and $y$, and a maximum power of 3, the order is\n",
       "$a_{00}, a_{10}, a_{20}, a_{30}, a_{01}, a_{11}, a_{21}, a_{02}, a_{12}, a_{03}$.\n",
       "This can be visualised as picking boxes out of a matrix and\n",
       "discarding the ones where the powers exceed the maximum:\n",
       "\n",
       "$$\n",
       "\\begin{array}{cccc}\n",
       "    9: x^0y^3 &    -      &    -      &    -      \\\\\n",
       "    7: x^0y^2 & 8: x^1y^2 &    -      &    -      \\\\\n",
       "    4: x^0y^1 & 5: x^1y^1 & 6: x^2y^1 &    -      \\\\\n",
       "    0: x^0y^0 & 1: x^1y^0 & 2: x^2y^0 & 3: x^3y^0 \\\\\n",
       "\\end{array}\n",
       "$$\n",
       "\n",
       "starting in the lower-lefthand corner and going right,\n",
       "then up.\n",
       "\n",
       "There is also a simpler version of the constructor for the case of a\n",
       "polynomial with only one dimension; it takes the observable, a\n",
       "`vector` of coefficients, an optional offset, and the lowest (not\n",
       "highest) degree of the polynomial; the latter two both default to\n",
       "zero. In this case the order of the coefficients is from lowest to\n",
       "highest power.\n",
       "\n",
       "[^1]: Although being honest, just supporting the special cases of one and two would likely have\n",
       "sufficed.\n"
      ],
      "text/plain": [
       "goofit._goofit.PolynomialPdf"
      ]
     },
     "execution_count": 23,
     "metadata": {},
     "output_type": "execute_result"
    }
   ],
   "source": [
    "goofit.PolynomialPdf"
   ]
  },
  {
   "cell_type": "code",
   "execution_count": 24,
   "metadata": {},
   "outputs": [],
   "source": [
    "a = goofit.Variable(\"a\", 0, 0, 1)\n",
    "linear = goofit.PolynomialPdf(\"linear\", x, [a])"
   ]
  },
  {
   "cell_type": "code",
   "execution_count": 25,
   "metadata": {},
   "outputs": [],
   "source": [
    "mu = goofit.Variable(\"mu\", 0, -10, 10)\n",
    "sigma = goofit.Variable(\"sigma\", 1, 0, 5)\n",
    "gauss = goofit.GaussianPdf(\"gauss\", x, mu, sigma)"
   ]
  },
  {
   "cell_type": "code",
   "execution_count": 26,
   "metadata": {},
   "outputs": [],
   "source": [
    "frac = goofit.Variable(\"frac\", 0.5, 0, 1)\n",
    "total = goofit.AddPdf(\"tot\", [frac], [gauss, linear])"
   ]
  },
  {
   "cell_type": "code",
   "execution_count": 27,
   "metadata": {},
   "outputs": [
    {
     "name": "stdout",
     "output_type": "stream",
     "text": [
      "\u001b[37m\u001b[1mMnSeedGenerator: for initial parameters FCN = 841991.3375829\n",
      "MnSeedGenerator: Initial state:   - FCN =   841991.3375829 Edm =      54905.9 NCalls =     19\n",
      "MnSeedGenerator: Negative G2 found - new state:   - FCN =   841991.3375829 Edm =      54905.9 NCalls =     19\n",
      "VariableMetric: start iterating until Edm is < 0.0001\n",
      "VariableMetric: Initial state   - FCN =   841991.3375829 Edm =      54905.9 NCalls =     19\n",
      "VariableMetric: Iteration #   0 - FCN =   841991.3375829 Edm =      54905.9 NCalls =     19\n",
      "VariableMetric: Iteration #   1 - FCN =   805891.6544247 Edm =       5488.4 NCalls =     32\n",
      "VariableMetric: Iteration #   2 - FCN =    795574.659308 Edm =      1950.27 NCalls =     43\n",
      "VariableMetric: Iteration #   3 - FCN =   792859.7578903 Edm =      4.13092 NCalls =     53\n",
      "VariableMetric: Iteration #   4 - FCN =   792852.8950523 Edm =     0.109736 NCalls =     63\n",
      "VariableMetric: Iteration #   5 - FCN =   792852.7208782 Edm =   0.00609223 NCalls =     73\n",
      "VariableMetric: Iteration #   6 - FCN =   792852.7143614 Edm =  2.05759e-07 NCalls =     83\n",
      "\u001b[0m\u001b[32m\n",
      "Minuit did successfully converge.\n",
      "# of function calls: 83\n",
      "minimum function Value: 792852.7143614\n",
      "minimum edm: 2.057586867024e-07\n",
      "minimum internal state vector: LAVector parameters:\n",
      "     0.3440186803096\n",
      "     0.1014357182978\n",
      "    -0.1966975579779\n",
      "     -1.568843202043\n",
      "\n",
      "minimum internal covariance matrix: LASymMatrix parameters:\n",
      "  2.0396021e-05  3.3670001e-08  7.1047453e-06  4.7646723e-12\n",
      "  3.3670001e-08  6.4249528e-07  3.0095366e-08  6.9978847e-13\n",
      "  7.1047453e-06  3.0095366e-08  9.8954722e-06  1.2831704e-12\n",
      "  4.7646723e-12  6.9978847e-13  1.2831704e-12              2\n",
      "\n",
      "\n",
      "# ext. ||   Name    ||   type  ||     Value     ||  Error +/- \n",
      "\n",
      "   0   ||      frac || limited ||     0.6686365093422 ||0.00150315704834\n",
      "   1   ||        mu || limited ||      1.012618589499 ||0.005638736936679\n",
      "   2   ||     sigma || limited ||       2.01142089932 ||0.005453643719806\n",
      "   3   ||         a || limited ||  9.536737706761e-07 ||0.2298484086643\n",
      "\n",
      "\n",
      "\n",
      "\n",
      "\u001b[0m\u001b[35mThe minimization took: 409.65 ms\n",
      "Average time per call: 4.9405 ms\u001b[0m\n"
     ]
    }
   ],
   "source": [
    "minimum = total.fitTo(data)"
   ]
  },
  {
   "cell_type": "code",
   "execution_count": 28,
   "metadata": {},
   "outputs": [
    {
     "name": "stdout",
     "output_type": "stream",
     "text": [
      "frac: 0.6686 +/- 0.0015 [0, 1] Fitter index: 0\n"
     ]
    }
   ],
   "source": [
    "print(frac)"
   ]
  },
  {
   "cell_type": "markdown",
   "metadata": {},
   "source": [
    "Let's look at a plot."
   ]
  },
  {
   "cell_type": "code",
   "execution_count": 29,
   "metadata": {},
   "outputs": [
    {
     "data": {
      "image/png": "[encoded data removed]",
      "text/plain": [
       "<Figure size 432x288 with 1 Axes>"
      ]
     },
     "metadata": {
      "needs_background": "light"
     },
     "output_type": "display_data"
    }
   ],
   "source": [
    "grid, pts = total.evaluatePdf(x)\n",
    "total.setData(grid)\n",
    "\n",
    "fig, ax = plt.subplots(figsize=(6, 4))\n",
    "v = ax.plot(grid.to_numpy().flatten(), pts, linewidth=2)[0]\n",
    "ax.set_xlabel(\"xvar\")\n",
    "ax.set_ylabel(\"Normalized probability\")\n",
    "ax.set_ylim(ymin=0)\n",
    "plt.show()"
   ]
  },
  {
   "cell_type": "code",
   "execution_count": null,
   "metadata": {},
   "outputs": [],
   "source": []
  }
 ],
 "metadata": {
  "kernelspec": {
   "display_name": "Python 3",
   "language": "python",
   "name": "python3"
  },
  "language_info": {
   "codemirror_mode": {
    "name": "ipython",
    "version": 3
   },
   "file_extension": ".py",
   "mimetype": "text/x-python",
   "name": "python",
   "nbconvert_exporter": "python",
   "pygments_lexer": "ipython3",
   "version": "3.7.7"
  }
 },
 "nbformat": 4,
 "nbformat_minor": 4
}
