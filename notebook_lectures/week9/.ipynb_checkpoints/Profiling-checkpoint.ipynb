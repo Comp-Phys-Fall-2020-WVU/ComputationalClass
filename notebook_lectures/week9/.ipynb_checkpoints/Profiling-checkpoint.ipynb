{
 "cells": [
  {
   "cell_type": "markdown",
   "metadata": {},
   "source": [
    "# (Pro)file\n",
    "\n",
    "## Objectives\n",
    "\n",
    "* Cover profiling (extension of last lecture)\n",
    "* Cover reading and writing of files\n",
    "* Start the basics of ODEs"
   ]
  },
  {
   "cell_type": "markdown",
   "metadata": {},
   "source": [
    "## Profiling\n",
    "\n",
    "The idea is how we can focus on optimizing part of our code which are slow. How? Profile!\n",
    "\n",
    "1. Deterministic profilers: These modify the runtime of the program by tracking every line.\n",
    "2. Sampling profilers: These \"sample\" every so often.\n",
    "\n",
    "The main profiler for Python is the built in `cProfile` and `profile` modules (the first being a faster version of the second). Since Python is already interpreted and slow, most profilers for Python are deterministic profilers."
   ]
  },
  {
   "cell_type": "markdown",
   "metadata": {},
   "source": [
    "The following example uses the built in profiler directly, as well as `line_profiler`, from either conda (`conda install line_profiler` in environment) or pip (`pip install --user line-profiler`). Line profiler is a powerful, better interface (and IPython extension) for the cProfile module."
   ]
  },
  {
   "cell_type": "code",
   "execution_count": 1,
   "metadata": {},
   "outputs": [],
   "source": [
    "import numpy as np\n",
    "from scipy.stats import norm"
   ]
  },
  {
   "cell_type": "code",
   "execution_count": 2,
   "metadata": {
    "lines_to_next_cell": 2
   },
   "outputs": [],
   "source": [
    "def sampler(\n",
    "    data,\n",
    "    samples=4,\n",
    "    mu_init=0.5,\n",
    "    proposal_width=0.5,\n",
    "    plot=False,\n",
    "    mu_prior_mu=0,\n",
    "    mu_prior_sd=1.0,\n",
    "):\n",
    "    mu_current = mu_init\n",
    "    posterior = [mu_current]\n",
    "    for i in range(samples):\n",
    "        # suggest new position\n",
    "        mu_proposal = norm(mu_current, proposal_width).rvs()\n",
    "\n",
    "        # Compute likelihood by multiplying probabilities of each data point\n",
    "        likelihood_current = norm(mu_current, 1).pdf(data).prod()\n",
    "        likelihood_proposal = norm(mu_proposal, 1).pdf(data).prod()\n",
    "\n",
    "        # Compute prior probability of current and proposed mu\n",
    "        prior_current = norm(mu_prior_mu, mu_prior_sd).pdf(mu_current)\n",
    "        prior_proposal = norm(mu_prior_mu, mu_prior_sd).pdf(mu_proposal)\n",
    "\n",
    "        p_current = likelihood_current * prior_current\n",
    "        p_proposal = likelihood_proposal * prior_proposal\n",
    "\n",
    "        # Accept proposal?\n",
    "        p_accept = p_proposal / p_current\n",
    "\n",
    "        # Usually would include prior probability, which we neglect here for simplicity\n",
    "        accept = np.random.rand() < p_accept\n",
    "\n",
    "        if plot:\n",
    "            plot_proposal(\n",
    "                mu_current,\n",
    "                mu_proposal,\n",
    "                mu_prior_mu,\n",
    "                mu_prior_sd,\n",
    "                data,\n",
    "                accept,\n",
    "                posterior,\n",
    "                i,\n",
    "            )\n",
    "\n",
    "        if accept:\n",
    "            # Update position\n",
    "            mu_current = mu_proposal\n",
    "\n",
    "        posterior.append(mu_current)\n",
    "\n",
    "    return posterior"
   ]
  },
  {
   "cell_type": "code",
   "execution_count": 3,
   "metadata": {},
   "outputs": [],
   "source": [
    "np.random.seed(123)\n",
    "data = np.random.randn(20)"
   ]
  },
  {
   "cell_type": "code",
   "execution_count": 4,
   "metadata": {},
   "outputs": [],
   "source": [
    "import cProfile"
   ]
  },
  {
   "cell_type": "code",
   "execution_count": 5,
   "metadata": {},
   "outputs": [
    {
     "name": "stdout",
     "output_type": "stream",
     "text": [
      "         7970008 function calls (7913008 primitive calls) in 6.316 seconds\n",
      "\n",
      "   Ordered by: standard name\n",
      "\n",
      "   ncalls  tottime  percall  cumtime  percall filename:lineno(function)\n",
      "     2000    0.002    0.000    0.028    0.000 <__array_function__ internals>:2(all)\n",
      "     4000    0.004    0.000    0.093    0.000 <__array_function__ internals>:2(any)\n",
      "     4000    0.004    0.000    0.041    0.000 <__array_function__ internals>:2(atleast_1d)\n",
      "     1000    0.001    0.000    0.022    0.000 <__array_function__ internals>:2(broadcast_arrays)\n",
      "     8000    0.007    0.000    0.180    0.000 <__array_function__ internals>:2(extract)\n",
      "     8000    0.005    0.000    0.031    0.000 <__array_function__ internals>:2(nonzero)\n",
      "     4000    0.003    0.000    0.022    0.000 <__array_function__ internals>:2(place)\n",
      "     4000    0.004    0.000    0.019    0.000 <__array_function__ internals>:2(putmask)\n",
      "    16000    0.010    0.000    0.070    0.000 <__array_function__ internals>:2(ravel)\n",
      "     4000    0.005    0.000    0.014    0.000 <__array_function__ internals>:2(shape)\n",
      "     8000    0.005    0.000    0.041    0.000 <__array_function__ internals>:2(take)\n",
      "        1    0.019    0.019    6.326    6.326 <ipython-input-2-17c343ae0e58>:1(sampler)\n",
      "        1    0.000    0.000    6.327    6.327 <string>:1(<module>)\n",
      "    15000    0.008    0.000    0.013    0.000 <string>:1(__new__)\n",
      "        1    0.000    0.000    0.000    0.000 <string>:2(<module>)\n",
      "        2    0.000    0.000    0.000    0.000 <string>:2(_parse_args)\n",
      "        1    0.000    0.000    0.000    0.000 <string>:5(_parse_args_rvs)\n",
      "    16000    0.007    0.000    0.060    0.000 _asarray.py:14(asarray)\n",
      "    24000    0.007    0.000    0.020    0.000 _asarray.py:86(asanyarray)\n",
      "     4000    0.084    0.000    0.084    0.000 _continuous_distns.py:242(_norm_pdf)\n",
      "     1000    0.001    0.000    0.005    0.000 _continuous_distns.py:297(_rvs)\n",
      "     4000    0.003    0.000    0.087    0.000 _continuous_distns.py:300(_pdf)\n",
      "     5000    0.127    0.000    5.063    0.001 _distn_infrastructure.py:1597(__init__)\n",
      "     5000    0.032    0.000    0.034    0.000 _distn_infrastructure.py:1662(_updated_ctor_param)\n",
      "     4000    0.214    0.000    1.012    0.000 _distn_infrastructure.py:1734(pdf)\n",
      "     5000    0.048    0.000    5.149    0.001 _distn_infrastructure.py:417(__init__)\n",
      "     4000    0.012    0.000    1.024    0.000 _distn_infrastructure.py:435(pdf)\n",
      "     1000    0.003    0.000    0.102    0.000 _distn_infrastructure.py:453(rvs)\n",
      "     4000    0.014    0.000    0.278    0.000 _distn_infrastructure.py:513(argsreduce)\n",
      "     4000    0.044    0.000    0.223    0.000 _distn_infrastructure.py:538(<listcomp>)\n",
      "     5000    0.033    0.000    0.582    0.000 _distn_infrastructure.py:580(__init__)\n",
      "     5000    0.071    0.000    1.114    0.000 _distn_infrastructure.py:630(_construct_argparser)\n",
      "     5000    0.068    0.000    2.735    0.001 _distn_infrastructure.py:711(_construct_doc)\n",
      "     5000    0.001    0.000    0.001    0.000 _distn_infrastructure.py:719(<genexpr>)\n",
      "     5000    0.007    0.000    5.157    0.001 _distn_infrastructure.py:762(freeze)\n",
      "     5000    0.005    0.000    5.162    0.001 _distn_infrastructure.py:779(__call__)\n",
      "     1000    0.006    0.000    0.031    0.000 _distn_infrastructure.py:798(_argcheck_rvs)\n",
      "     2000    0.001    0.000    0.001    0.000 _distn_infrastructure.py:812(squeeze_left)\n",
      "     1000    0.001    0.000    0.001    0.000 _distn_infrastructure.py:828(<listcomp>)\n",
      "     1000    0.000    0.000    0.000    0.000 _distn_infrastructure.py:857(<listcomp>)\n",
      "     5000    0.002    0.000    0.002    0.000 _distn_infrastructure.py:872(_argcheck)\n",
      "     9000    0.003    0.000    0.003    0.000 _distn_infrastructure.py:884(_get_support)\n",
      "     4000    0.037    0.000    0.097    0.000 _distn_infrastructure.py:905(_support_mask)\n",
      "     1000    0.031    0.000    0.098    0.000 _distn_infrastructure.py:945(rvs)\n",
      "     2000    0.001    0.000    0.014    0.000 _methods.py:49(_prod)\n",
      "     2000    0.001    0.000    0.014    0.000 _methods.py:53(_any)\n",
      "     2000    0.001    0.000    0.009    0.000 _methods.py:56(_all)\n",
      "     8000    0.016    0.000    0.017    0.000 _ufunc_config.py:132(geterr)\n",
      "     8000    0.019    0.000    0.046    0.000 _ufunc_config.py:32(seterr)\n",
      "     4000    0.003    0.000    0.003    0.000 _ufunc_config.py:429(__init__)\n",
      "     4000    0.005    0.000    0.034    0.000 _ufunc_config.py:433(__enter__)\n",
      "     4000    0.004    0.000    0.021    0.000 _ufunc_config.py:438(__exit__)\n",
      "     5000    0.007    0.000    0.007    0.000 _util.py:191(check_random_state)\n",
      "    15000    0.139    0.000    0.824    0.000 _util.py:290(getfullargspec_no_self)\n",
      "    15000    0.015    0.000    0.017    0.000 _util.py:313(<listcomp>)\n",
      "    15000    0.007    0.000    0.008    0.000 _util.py:318(<listcomp>)\n",
      "    15000    0.006    0.000    0.007    0.000 _util.py:323(<listcomp>)\n",
      "    15000    0.010    0.000    0.012    0.000 _util.py:328(<genexpr>)\n",
      "    15000    0.007    0.000    0.008    0.000 _util.py:333(<listcomp>)\n",
      "    15000    0.007    0.000    0.008    0.000 _util.py:336(<dictcomp>)\n",
      "    15000    0.006    0.000    0.007    0.000 _util.py:339(<dictcomp>)\n",
      "    10000    1.003    0.000    2.518    0.000 doccer.py:10(docformat)\n",
      "    10000    0.353    0.000    0.611    0.000 doccer.py:177(indentcount_lines)\n",
      "    40000    0.032    0.000    0.043    0.000 enum.py:284(__call__)\n",
      "    40000    0.011    0.000    0.011    0.000 enum.py:526(__new__)\n",
      "    16000    0.002    0.000    0.002    0.000 fromnumeric.py:1701(_ravel_dispatcher)\n",
      "    16000    0.017    0.000    0.048    0.000 fromnumeric.py:1705(ravel)\n",
      "     8000    0.002    0.000    0.002    0.000 fromnumeric.py:1812(_nonzero_dispatcher)\n",
      "     8000    0.005    0.000    0.020    0.000 fromnumeric.py:1816(nonzero)\n",
      "     4000    0.001    0.000    0.001    0.000 fromnumeric.py:1911(_shape_dispatcher)\n",
      "     4000    0.002    0.000    0.002    0.000 fromnumeric.py:1915(shape)\n",
      "     4000    0.001    0.000    0.001    0.000 fromnumeric.py:2245(_any_dispatcher)\n",
      "     4000    0.006    0.000    0.083    0.000 fromnumeric.py:2249(any)\n",
      "     2000    0.001    0.000    0.001    0.000 fromnumeric.py:2333(_all_dispatcher)\n",
      "     2000    0.002    0.000    0.022    0.000 fromnumeric.py:2337(all)\n",
      "    16000    0.010    0.000    0.037    0.000 fromnumeric.py:52(_wrapfunc)\n",
      "     6000    0.046    0.000    0.097    0.000 fromnumeric.py:70(_wrapreduction)\n",
      "     6000    0.003    0.000    0.003    0.000 fromnumeric.py:71(<dictcomp>)\n",
      "     8000    0.001    0.000    0.001    0.000 fromnumeric.py:90(_take_dispatcher)\n",
      "     8000    0.008    0.000    0.030    0.000 fromnumeric.py:94(take)\n",
      "     8000    0.002    0.000    0.002    0.000 function_base.py:1641(_extract_dispatcher)\n",
      "     8000    0.023    0.000    0.164    0.000 function_base.py:1645(extract)\n",
      "     4000    0.001    0.000    0.001    0.000 function_base.py:1697(_place_dispatcher)\n",
      "     4000    0.004    0.000    0.014    0.000 function_base.py:1701(place)\n",
      "    20000    0.503    0.000    0.505    0.000 function_base.py:2048(__init__)\n",
      "     5000    0.044    0.000    0.232    0.000 inspect.py:1089(getfullargspec)\n",
      "    40000    0.013    0.000    0.017    0.000 inspect.py:158(isfunction)\n",
      "    15000    0.049    0.000    0.132    0.000 inspect.py:1799(_signature_bound_method)\n",
      "    20000    0.153    0.000    0.394    0.000 inspect.py:2117(_signature_from_function)\n",
      "40000/20000    0.126    0.000    0.717    0.000 inspect.py:2198(_signature_from_callable)\n",
      "    40000    0.067    0.000    0.121    0.000 inspect.py:2467(__init__)\n",
      "    75000    0.010    0.000    0.010    0.000 inspect.py:2517(name)\n",
      "    45000    0.006    0.000    0.006    0.000 inspect.py:2521(default)\n",
      "    25000    0.003    0.000    0.003    0.000 inspect.py:2525(annotation)\n",
      "   115000    0.014    0.000    0.014    0.000 inspect.py:2529(kind)\n",
      "    35000    0.097    0.000    0.137    0.000 inspect.py:2750(__init__)\n",
      "    60000    0.031    0.000    0.037    0.000 inspect.py:2799(<genexpr>)\n",
      "    15000    0.015    0.000    0.562    0.000 inspect.py:2829(from_callable)\n",
      "   125000    0.015    0.000    0.015    0.000 inspect.py:2835(parameters)\n",
      "     5000    0.001    0.000    0.001    0.000 inspect.py:2839(return_annotation)\n",
      "    15000    0.019    0.000    0.058    0.000 inspect.py:2843(replace)\n",
      "    15000    0.015    0.000    0.577    0.000 inspect.py:3081(signature)\n",
      "    15000    0.024    0.000    0.039    0.000 inspect.py:484(unwrap)\n",
      "    15000    0.006    0.000    0.009    0.000 inspect.py:504(_is_wrapper)\n",
      "     4000    0.001    0.000    0.001    0.000 multiarray.py:1078(putmask)\n",
      "     8000    0.086    0.000    0.104    0.000 numerictypes.py:545(_can_coerce_all)\n",
      "    56000    0.014    0.000    0.014    0.000 numerictypes.py:554(<listcomp>)\n",
      "     4000    0.011    0.000    0.121    0.000 numerictypes.py:569(find_common_type)\n",
      "     4000    0.005    0.000    0.005    0.000 numerictypes.py:621(<listcomp>)\n",
      "     4000    0.001    0.000    0.001    0.000 numerictypes.py:622(<listcomp>)\n",
      "     4000    0.001    0.000    0.001    0.000 shape_base.py:20(_atleast_1d_dispatcher)\n",
      "     4000    0.013    0.000    0.033    0.000 shape_base.py:24(atleast_1d)\n",
      "     1000    0.005    0.000    0.005    0.000 stride_tricks.py:183(_broadcast_shape)\n",
      "     1000    0.000    0.000    0.000    0.000 stride_tricks.py:200(_broadcast_arrays_dispatcher)\n",
      "     1000    0.004    0.000    0.017    0.000 stride_tricks.py:204(broadcast_arrays)\n",
      "     1000    0.002    0.000    0.006    0.000 stride_tricks.py:256(<listcomp>)\n",
      "     3000    0.001    0.000    0.001    0.000 stride_tricks.py:260(<genexpr>)\n",
      "    20000    0.007    0.000    0.007    0.000 {built-in method __new__ of type object at 0x103dca568}\n",
      "     2000    0.002    0.000    0.003    0.000 {built-in method builtins.all}\n",
      "    40000    0.006    0.000    0.006    0.000 {built-in method builtins.callable}\n",
      "   5001/1    0.518    0.000    6.327    6.327 {built-in method builtins.exec}\n",
      "    20000    0.005    0.000    0.005    0.000 {built-in method builtins.getattr}\n",
      "    20000    0.005    0.000    0.005    0.000 {built-in method builtins.hasattr}\n",
      "    15000    0.003    0.000    0.003    0.000 {built-in method builtins.id}\n",
      "   179000    0.026    0.000    0.026    0.000 {built-in method builtins.isinstance}\n",
      "  1070000    0.074    0.000    0.074    0.000 {built-in method builtins.len}\n",
      "   490000    0.110    0.000    0.110    0.000 {built-in method builtins.min}\n",
      "    15000    0.005    0.000    0.005    0.000 {built-in method builtins.setattr}\n",
      "    42000    0.071    0.000    0.071    0.000 {built-in method numpy.array}\n",
      "     4000    0.009    0.000    0.009    0.000 {built-in method numpy.core._multiarray_umath._insert}\n",
      "63000/31000    0.062    0.000    0.381    0.000 {built-in method numpy.core._multiarray_umath.implement_array_function}\n",
      "    16000    0.004    0.000    0.004    0.000 {built-in method numpy.geterrobj}\n",
      "     8000    0.007    0.000    0.007    0.000 {built-in method numpy.seterrobj}\n",
      "     4000    0.005    0.000    0.005    0.000 {built-in method numpy.zeros}\n",
      "    15000    0.003    0.000    0.003    0.000 {built-in method sys.getrecursionlimit}\n",
      "     2000    0.003    0.000    0.012    0.000 {method 'all' of 'numpy.generic' objects}\n",
      "     2000    0.005    0.000    0.019    0.000 {method 'any' of 'numpy.generic' objects}\n",
      "  2574000    0.216    0.000    0.216    0.000 {method 'append' of 'list' objects}\n",
      "    11000    0.006    0.000    0.006    0.000 {method 'copy' of 'dict' objects}\n",
      "        1    0.000    0.000    0.000    0.000 {method 'disable' of '_lsprof.Profiler' objects}\n",
      "   320000    0.220    0.000    0.220    0.000 {method 'expandtabs' of 'str' objects}\n",
      "    66000    0.010    0.000    0.010    0.000 {method 'get' of 'dict' objects}\n",
      "    40000    0.006    0.000    0.006    0.000 {method 'isidentifier' of 'str' objects}\n",
      "    16000    0.005    0.000    0.005    0.000 {method 'items' of 'dict' objects}\n",
      "   275000    0.105    0.000    0.106    0.000 {method 'join' of 'str' objects}\n",
      "   665000    0.083    0.000    0.083    0.000 {method 'lstrip' of 'str' objects}\n",
      "     8000    0.008    0.000    0.008    0.000 {method 'nonzero' of 'numpy.ndarray' objects}\n",
      "     2000    0.001    0.000    0.001    0.000 {method 'pop' of 'dict' objects}\n",
      "     2000    0.002    0.000    0.016    0.000 {method 'prod' of 'numpy.ndarray' objects}\n",
      "     1000    0.003    0.000    0.003    0.000 {method 'rand' of 'numpy.random.mtrand.RandomState' objects}\n",
      "    16000    0.013    0.000    0.013    0.000 {method 'ravel' of 'numpy.ndarray' objects}\n",
      "     8000    0.048    0.000    0.048    0.000 {method 'reduce' of 'numpy.ufunc' objects}\n",
      "    30000    0.135    0.000    0.135    0.000 {method 'replace' of 'str' objects}\n",
      "     6000    0.012    0.000    0.012    0.000 {method 'reshape' of 'numpy.ndarray' objects}\n",
      "   320000    0.376    0.000    0.376    0.000 {method 'splitlines' of 'str' objects}\n",
      "     1000    0.005    0.000    0.005    0.000 {method 'standard_normal' of 'numpy.random.mtrand.RandomState' objects}\n",
      "     8000    0.016    0.000    0.016    0.000 {method 'take' of 'numpy.ndarray' objects}\n",
      "     1000    0.001    0.000    0.001    0.000 {method 'update' of 'dict' objects}\n",
      "   125000    0.036    0.000    0.036    0.000 {method 'values' of 'mappingproxy' objects}\n",
      "\n",
      "\n"
     ]
    }
   ],
   "source": [
    "cProfile.run(\"posterior = sampler(data, samples=1000, mu_init=1.)\")"
   ]
  },
  {
   "cell_type": "markdown",
   "metadata": {},
   "source": [
    "Reading that last page is a bit tricky - we have the \"insides\" of all the Python functions being called. Let's try `line_profiler` to just select the *one* function we care about, and see that line-by-line.\n",
    "\n",
    "Like all external packages except matplotlib, we need to load the package as an IPython extension first:"
   ]
  },
  {
   "cell_type": "code",
   "execution_count": 7,
   "metadata": {},
   "outputs": [],
   "source": [
    "%load_ext line_profiler"
   ]
  },
  {
   "cell_type": "markdown",
   "metadata": {},
   "source": [
    "Then, we can use the `lprun` magic along with the `-f function` to select a function:"
   ]
  },
  {
   "cell_type": "code",
   "execution_count": 8,
   "metadata": {},
   "outputs": [],
   "source": [
    "%lprun -f sampler posterior = sampler(data, samples=1000, mu_init=1.)"
   ]
  },
  {
   "cell_type": "markdown",
   "metadata": {},
   "source": [
    "Much better! I can easily see what's wrong now. This allows you to *target* optimizations; often minor changes, like `np.stack` instead of `np.array`, may give you large speedups. Parts that are not performance critical can remain clear and easy to read/maintain."
   ]
  },
  {
   "cell_type": "markdown",
   "metadata": {},
   "source": [
    "Real life example:\n",
    "* I had 128 DataFrames of around a million events each, and I wanted to make 128 2D histograms.\n",
    "* Custom Histogram library Physt was taking 3 seconds per histogram.\n",
    "* Native Numpy histogram (then feeding that into Physt) took .9 seconds per histogram.\n",
    "* Custom Numba histogram function (then feeding that into Physt) took 0.1 seconds per histogram.\n",
    "\n",
    "At this point, a total of 10-15 seconds for the procedure was fine. Physt histograms as output means I can use the nice OO design to merge and rebin histograms later, by the way."
   ]
  },
  {
   "cell_type": "markdown",
   "metadata": {},
   "source": [
    "## Files\n",
    "\n",
    "Let's look at reading in and out data!"
   ]
  },
  {
   "cell_type": "markdown",
   "metadata": {},
   "source": [
    "### Basic input/output\n",
    "\n",
    "As a reminder, this is input output of text or data files in pure Python:"
   ]
  },
  {
   "cell_type": "code",
   "execution_count": null,
   "metadata": {},
   "outputs": [],
   "source": [
    "with open(\"tmpfile.txt\", \"w\") as f:\n",
    "    f.write(\"This is one line\\n\")\n",
    "    print(\"Second line\", file=f)\n",
    "# File gets closed here\n",
    "\n",
    "with open(\"tmpfile.txt\") as f:\n",
    "    for l in f:\n",
    "        print(l, end=\"\")"
   ]
  },
  {
   "cell_type": "markdown",
   "metadata": {},
   "source": [
    "You can iterate over a file to get lines, or use `.readlines` to get a list of lines, or `.read` to just read in (part) of the file. The mode flags can set text vs. binary `'b'`, read `'r'`, write `'w'`, or append `'a'`.\n",
    "\n",
    "The `f` object is a File Buffer. Quite a few functions and libraries in Python take a buffer - usually they take a file name or an open buffer. You can make a buffer that is attached to your memory instead of a file with `io.StringIO`."
   ]
  },
  {
   "cell_type": "markdown",
   "metadata": {},
   "source": [
    "### Serializing any objects\n",
    "\n",
    "Python has a protocol for storing and recovering almost any object called \"pickling\". This is general purpose, but is often not ideal for large or long term storage, or for communicating data - there is some limitation on Python version, the class code should be similar or the same, and there is no compression. But, it can be handy in a pinch. You can use `dump` and `load`, or you can use `dumps` and `loads` to input/output directly to a string instead:"
   ]
  },
  {
   "cell_type": "code",
   "execution_count": null,
   "metadata": {},
   "outputs": [],
   "source": [
    "import pickle"
   ]
  },
  {
   "cell_type": "code",
   "execution_count": null,
   "metadata": {},
   "outputs": [],
   "source": [
    "pickle_str = pickle.dumps(\"some object\")\n",
    "print(pickle_str)"
   ]
  },
  {
   "cell_type": "code",
   "execution_count": null,
   "metadata": {},
   "outputs": [],
   "source": [
    "pickle.loads(pickle_str)"
   ]
  },
  {
   "cell_type": "markdown",
   "metadata": {},
   "source": [
    "### Use case: configuration\n",
    "\n",
    "Let's look at better ways to do IO for specific cases. Let's look at a common one: storing some \"configuration\" like data (or any small set of data). As long as the data is small, it's nice to leave it human readable format, in a text file. Here are some popular formats:\n",
    "\n",
    "1. **XML**: Famous - HTML is a subset of XML. Very verbose and ugly, and often used with a custom schema.\n",
    "2. **JSON**: Popular. A little unfriendly for writing, but clean and simple. A subset of JavaScript makes it web-friendly. Great libraries available.\n",
    "3. **INI**: Not well defined, and *very* limited. Very easy for a human to author, though.\n",
    "4. **YAML**: Yet Another Markup Language, popular in some areas. Lots of weird corner cases to the syntax, though.\n",
    "5. **TOML**: Simpler version of the thing above. Gaining some use in Python as of late.\n",
    "\n",
    "Of these, the best standard library support in Python goes to JSON, so we'll look at that one. It's the best in the list for (small amounts of) general data. For configuration, it's a tossup.\n",
    "\n",
    "JSON has the same methods as pickle."
   ]
  },
  {
   "cell_type": "code",
   "execution_count": null,
   "metadata": {},
   "outputs": [],
   "source": [
    "import json"
   ]
  },
  {
   "cell_type": "code",
   "execution_count": null,
   "metadata": {},
   "outputs": [],
   "source": [
    "structure_to_save = [\"list\", \"items\", {\"dictionary\": \"Nested\", \"number\": 2}]\n",
    "\n",
    "print(json.dumps(structure_to_save, indent=True))"
   ]
  },
  {
   "cell_type": "markdown",
   "metadata": {},
   "source": [
    "You can read more at [Python 3 Module of the Week](https://pymotw.com/3/index.html): [json](https://pymotw.com/3/json/index.html>) or the [official documentation](https://docs.python.org/3/library/json.html)."
   ]
  },
  {
   "cell_type": "markdown",
   "metadata": {},
   "source": [
    "### Larger data storage\n",
    "#### Numpy\n",
    "Let's assume we have data in Numpy. We can use one of several Numpy methods to store the data; we can even compress it."
   ]
  },
  {
   "cell_type": "code",
   "execution_count": null,
   "metadata": {},
   "outputs": [],
   "source": [
    "a = np.random.rand(1000)"
   ]
  },
  {
   "cell_type": "markdown",
   "metadata": {},
   "source": [
    "The format is a simple binary one-array-per-file format; you can use `savez` to save several files into one uncompressed zip file, or `savez_compressed` to save to a compressed zip file:"
   ]
  },
  {
   "cell_type": "code",
   "execution_count": null,
   "metadata": {},
   "outputs": [],
   "source": [
    "np.savez_compressed(\"tmp.npz\", a=a)"
   ]
  },
  {
   "cell_type": "code",
   "execution_count": null,
   "metadata": {},
   "outputs": [],
   "source": [
    "with np.load(\"tmp.npz\") as f:\n",
    "    print(f[\"a\"].shape)"
   ]
  },
  {
   "cell_type": "markdown",
   "metadata": {},
   "source": [
    "While simple, this is still Numpy specific, and is not ideal for cross-language data storage."
   ]
  },
  {
   "cell_type": "markdown",
   "metadata": {},
   "source": [
    "#### HDF5\n",
    "\n",
    "This is a standard format for storing binary structured data with optional compression. It has several nice features, like groups and attributes, that make it very powerful. You need an external library, but Anaconda comes with it by default. Technically, it comes with two. H5py and PyTables; I use HDF5 in C++ also, so I like the fact that H5py looks more like other HDF5 libraries, so I'll cover that. The other one is available with `import tables`."
   ]
  },
  {
   "cell_type": "code",
   "execution_count": null,
   "metadata": {},
   "outputs": [],
   "source": [
    "import h5py"
   ]
  },
  {
   "cell_type": "code",
   "execution_count": null,
   "metadata": {},
   "outputs": [],
   "source": [
    "with h5py.File(\"tmp.h5\", \"w\") as f:\n",
    "    f[\"a\"] = a\n",
    "\n",
    "with h5py.File(\"tmp.h5\") as f:\n",
    "    b = f[\"a\"].value"
   ]
  },
  {
   "cell_type": "code",
   "execution_count": null,
   "metadata": {},
   "outputs": [],
   "source": [
    "assert np.all(a == b)"
   ]
  },
  {
   "cell_type": "markdown",
   "metadata": {},
   "source": [
    "This is a common idiom in modern IO libraries; you treat the file like a dictionary. There are explicit methods if you need to do something fancier (like turn on compression for a dataset). HDF5 has tools to allow you to keep a dataset on file instead of reading it entirely to memory (but I've not had to use those)."
   ]
  },
  {
   "cell_type": "markdown",
   "metadata": {},
   "source": [
    "Also, there are great non-Python tools for HDF5 available, like a graphical file viewer.\n",
    "\n",
    "<font color=\"grey\">\n",
    "\n",
    "> Note for HEP physicists: the ROOT file format has a few features that HDF5 does not, like incremental saving. However, other than small differences, the formats are similar. Except that HDF5 is available everywhere and even if it isn't, it takes something like 5 minutes to build instead of several hours...\n",
    "\n",
    "</font>"
   ]
  },
  {
   "cell_type": "markdown",
   "metadata": {},
   "source": [
    "#### Pandas\n",
    "\n",
    "Pandas has very powerful connectors to lots of different formats, including CSV, JSON, Excel, and HDF5. If your data is already a table, just use Pandas!"
   ]
  },
  {
   "cell_type": "code",
   "execution_count": null,
   "metadata": {},
   "outputs": [],
   "source": [
    "import pandas as pd"
   ]
  },
  {
   "cell_type": "code",
   "execution_count": null,
   "metadata": {},
   "outputs": [],
   "source": [
    "dates = pd.date_range(\"20130101\", periods=6)\n",
    "df = pd.DataFrame(np.random.randn(6, 4), index=dates, columns=list(\"ABCD\"))\n",
    "df"
   ]
  },
  {
   "cell_type": "code",
   "execution_count": null,
   "metadata": {},
   "outputs": [],
   "source": [
    "df.to_hdf(\"tmp.h5\", \"df\")"
   ]
  },
  {
   "cell_type": "code",
   "execution_count": null,
   "metadata": {},
   "outputs": [],
   "source": [
    "pd.read_hdf(\"tmp.h5\", \"df\")"
   ]
  },
  {
   "cell_type": "markdown",
   "metadata": {},
   "source": [
    "#### Bonus: Uproot\n",
    "\n",
    "In HEP, we have a very commonly used and powerful format: ROOT. But getting ROOT to compile is a long (2+ hour) ordeal, and I have yet to get it to work with Anaconda Python on macOS.\n",
    "\n",
    "An exciting new library, \"uproot\" lets you read ROOT files in pure Python without ROOT. The original name was to be micro-root, or $\\mu$root, but it became uproot. You've already seen a bit of uproot in the previous lectures.\n",
    "\n",
    "Writing files is planned, but still in progress."
   ]
  }
 ],
 "metadata": {
  "kernelspec": {
   "display_name": "Python 3",
   "language": "python",
   "name": "python3"
  },
  "language_info": {
   "codemirror_mode": {
    "name": "ipython",
    "version": 3
   },
   "file_extension": ".py",
   "mimetype": "text/x-python",
   "name": "python",
   "nbconvert_exporter": "python",
   "pygments_lexer": "ipython3",
   "version": "3.7.7"
  }
 },
 "nbformat": 4,
 "nbformat_minor": 4
}
